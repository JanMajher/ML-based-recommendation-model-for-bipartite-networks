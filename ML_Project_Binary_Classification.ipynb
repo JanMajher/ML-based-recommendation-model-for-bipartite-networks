{
  "nbformat": 4,
  "nbformat_minor": 0,
  "metadata": {
    "colab": {
      "name": "ML_Project_Binary_Classification (1).ipynb",
      "provenance": [],
      "collapsed_sections": [],
      "toc_visible": true
    },
    "kernelspec": {
      "name": "python3",
      "display_name": "Python 3"
    }
  },
  "cells": [
    {
      "cell_type": "markdown",
      "metadata": {
        "id": "0BHQJ3CDaBAG"
      },
      "source": [
        "# Import Data"
      ]
    },
    {
      "cell_type": "code",
      "metadata": {
        "id": "1Cjy-t1laL7d"
      },
      "source": [
        "import matplotlib.pyplot as plt\r\n",
        "import numpy as np\r\n",
        "import time\r\n",
        "import pandas as pd\r\n",
        "import random"
      ],
      "execution_count": null,
      "outputs": []
    },
    {
      "cell_type": "code",
      "metadata": {
        "id": "Rl6_NjlBf7TC"
      },
      "source": [
        "from sklearn.utils import shuffle\r\n",
        "from sklearn.linear_model import LogisticRegression\r\n",
        "from sklearn.metrics import classification_report, confusion_matrix\r\n",
        "from sklearn.model_selection import cross_val_score\r\n",
        "from sklearn.metrics import plot_confusion_matrix\r\n",
        "from sklearn.metrics import roc_curve\r\n",
        "from sklearn.metrics import roc_auc_score\r\n",
        "from sklearn import svm\r\n",
        "from sklearn.ensemble import RandomForestClassifier\r\n"
      ],
      "execution_count": null,
      "outputs": []
    },
    {
      "cell_type": "code",
      "metadata": {
        "colab": {
          "base_uri": "https://localhost:8080/",
          "height": 453
        },
        "id": "o0h7tbxIOlcg",
        "outputId": "13a3c610-0181-473f-ff27-2a5c7389bdc5"
      },
      "source": [
        "# Import Dataset_1 with 1868 users and 2770 artists\r\n",
        "df = pd.read_csv('Dataset_1.csv')\r\n",
        "print(len(df['userID'].unique()))\r\n",
        "print(len(df['artistID'].unique()))\r\n",
        "df"
      ],
      "execution_count": null,
      "outputs": [
        {
          "output_type": "stream",
          "text": [
            "1868\n",
            "2770\n"
          ],
          "name": "stdout"
        },
        {
          "output_type": "execute_result",
          "data": {
            "text/html": [
              "<div>\n",
              "<style scoped>\n",
              "    .dataframe tbody tr th:only-of-type {\n",
              "        vertical-align: middle;\n",
              "    }\n",
              "\n",
              "    .dataframe tbody tr th {\n",
              "        vertical-align: top;\n",
              "    }\n",
              "\n",
              "    .dataframe thead th {\n",
              "        text-align: right;\n",
              "    }\n",
              "</style>\n",
              "<table border=\"1\" class=\"dataframe\">\n",
              "  <thead>\n",
              "    <tr style=\"text-align: right;\">\n",
              "      <th></th>\n",
              "      <th>userID</th>\n",
              "      <th>artistID</th>\n",
              "      <th>name</th>\n",
              "      <th>Label</th>\n",
              "      <th>IR</th>\n",
              "      <th>FriendsListening</th>\n",
              "      <th>FriendsRating</th>\n",
              "    </tr>\n",
              "  </thead>\n",
              "  <tbody>\n",
              "    <tr>\n",
              "      <th>0</th>\n",
              "      <td>1734</td>\n",
              "      <td>462</td>\n",
              "      <td>Blue</td>\n",
              "      <td>1</td>\n",
              "      <td>0.042589</td>\n",
              "      <td>0</td>\n",
              "      <td>0</td>\n",
              "    </tr>\n",
              "    <tr>\n",
              "      <th>1</th>\n",
              "      <td>1671</td>\n",
              "      <td>2834</td>\n",
              "      <td>Lynyrd Skynyrd</td>\n",
              "      <td>1</td>\n",
              "      <td>0.115877</td>\n",
              "      <td>3</td>\n",
              "      <td>2</td>\n",
              "    </tr>\n",
              "    <tr>\n",
              "      <th>2</th>\n",
              "      <td>1519</td>\n",
              "      <td>2608</td>\n",
              "      <td>City and Colour</td>\n",
              "      <td>1</td>\n",
              "      <td>0.038584</td>\n",
              "      <td>0</td>\n",
              "      <td>0</td>\n",
              "    </tr>\n",
              "    <tr>\n",
              "      <th>3</th>\n",
              "      <td>776</td>\n",
              "      <td>2820</td>\n",
              "      <td>Sakura</td>\n",
              "      <td>0</td>\n",
              "      <td>0.003305</td>\n",
              "      <td>1</td>\n",
              "      <td>1</td>\n",
              "    </tr>\n",
              "    <tr>\n",
              "      <th>4</th>\n",
              "      <td>29</td>\n",
              "      <td>951</td>\n",
              "      <td>Bon Jovi</td>\n",
              "      <td>1</td>\n",
              "      <td>0.065713</td>\n",
              "      <td>0</td>\n",
              "      <td>0</td>\n",
              "    </tr>\n",
              "    <tr>\n",
              "      <th>...</th>\n",
              "      <td>...</td>\n",
              "      <td>...</td>\n",
              "      <td>...</td>\n",
              "      <td>...</td>\n",
              "      <td>...</td>\n",
              "      <td>...</td>\n",
              "      <td>...</td>\n",
              "    </tr>\n",
              "    <tr>\n",
              "      <th>80132</th>\n",
              "      <td>772</td>\n",
              "      <td>8258</td>\n",
              "      <td>Emil Bulls</td>\n",
              "      <td>1</td>\n",
              "      <td>0.000531</td>\n",
              "      <td>0</td>\n",
              "      <td>0</td>\n",
              "    </tr>\n",
              "    <tr>\n",
              "      <th>80133</th>\n",
              "      <td>780</td>\n",
              "      <td>4767</td>\n",
              "      <td>Aura Dione</td>\n",
              "      <td>0</td>\n",
              "      <td>0.002057</td>\n",
              "      <td>0</td>\n",
              "      <td>0</td>\n",
              "    </tr>\n",
              "    <tr>\n",
              "      <th>80134</th>\n",
              "      <td>409</td>\n",
              "      <td>1964</td>\n",
              "      <td>Deerhunter</td>\n",
              "      <td>0</td>\n",
              "      <td>0.025713</td>\n",
              "      <td>0</td>\n",
              "      <td>0</td>\n",
              "    </tr>\n",
              "    <tr>\n",
              "      <th>80135</th>\n",
              "      <td>1902</td>\n",
              "      <td>2572</td>\n",
              "      <td>Minus the Bear</td>\n",
              "      <td>0</td>\n",
              "      <td>0.014403</td>\n",
              "      <td>0</td>\n",
              "      <td>0</td>\n",
              "    </tr>\n",
              "    <tr>\n",
              "      <th>80136</th>\n",
              "      <td>113</td>\n",
              "      <td>1729</td>\n",
              "      <td>Craig Armstrong</td>\n",
              "      <td>0</td>\n",
              "      <td>0.012951</td>\n",
              "      <td>0</td>\n",
              "      <td>0</td>\n",
              "    </tr>\n",
              "  </tbody>\n",
              "</table>\n",
              "<p>80137 rows × 7 columns</p>\n",
              "</div>"
            ],
            "text/plain": [
              "       userID  artistID  ... FriendsListening  FriendsRating\n",
              "0        1734       462  ...                0              0\n",
              "1        1671      2834  ...                3              2\n",
              "2        1519      2608  ...                0              0\n",
              "3         776      2820  ...                1              1\n",
              "4          29       951  ...                0              0\n",
              "...       ...       ...  ...              ...            ...\n",
              "80132     772      8258  ...                0              0\n",
              "80133     780      4767  ...                0              0\n",
              "80134     409      1964  ...                0              0\n",
              "80135    1902      2572  ...                0              0\n",
              "80136     113      1729  ...                0              0\n",
              "\n",
              "[80137 rows x 7 columns]"
            ]
          },
          "metadata": {
            "tags": []
          },
          "execution_count": 4
        }
      ]
    },
    {
      "cell_type": "code",
      "metadata": {
        "colab": {
          "base_uri": "https://localhost:8080/",
          "height": 453
        },
        "id": "9cvRMMZEVNHg",
        "outputId": "bce4b3aa-007c-4efc-8415-d36baca380e1"
      },
      "source": [
        "# Import Dataset_2 with \r\n",
        "df2 = pd.read_csv('Dataset_2.csv')\r\n",
        "print(len(df2['userID'].unique()))\r\n",
        "print(len(df2['artistID'].unique()))\r\n",
        "df2"
      ],
      "execution_count": null,
      "outputs": [
        {
          "output_type": "stream",
          "text": [
            "1880\n",
            "5426\n"
          ],
          "name": "stdout"
        },
        {
          "output_type": "execute_result",
          "data": {
            "text/html": [
              "<div>\n",
              "<style scoped>\n",
              "    .dataframe tbody tr th:only-of-type {\n",
              "        vertical-align: middle;\n",
              "    }\n",
              "\n",
              "    .dataframe tbody tr th {\n",
              "        vertical-align: top;\n",
              "    }\n",
              "\n",
              "    .dataframe thead th {\n",
              "        text-align: right;\n",
              "    }\n",
              "</style>\n",
              "<table border=\"1\" class=\"dataframe\">\n",
              "  <thead>\n",
              "    <tr style=\"text-align: right;\">\n",
              "      <th></th>\n",
              "      <th>userID</th>\n",
              "      <th>artistID</th>\n",
              "      <th>name</th>\n",
              "      <th>Label</th>\n",
              "      <th>IR</th>\n",
              "      <th>FriendsListening</th>\n",
              "      <th>FriendsRating</th>\n",
              "    </tr>\n",
              "  </thead>\n",
              "  <tbody>\n",
              "    <tr>\n",
              "      <th>0</th>\n",
              "      <td>853</td>\n",
              "      <td>5640</td>\n",
              "      <td>Nitrominds</td>\n",
              "      <td>0</td>\n",
              "      <td>0.002098</td>\n",
              "      <td>0</td>\n",
              "      <td>0</td>\n",
              "    </tr>\n",
              "    <tr>\n",
              "      <th>1</th>\n",
              "      <td>1275</td>\n",
              "      <td>7266</td>\n",
              "      <td>Pete Townshend</td>\n",
              "      <td>1</td>\n",
              "      <td>0.004690</td>\n",
              "      <td>0</td>\n",
              "      <td>0</td>\n",
              "    </tr>\n",
              "    <tr>\n",
              "      <th>2</th>\n",
              "      <td>1649</td>\n",
              "      <td>300</td>\n",
              "      <td>Katy Perry</td>\n",
              "      <td>1</td>\n",
              "      <td>1.440149</td>\n",
              "      <td>3</td>\n",
              "      <td>2</td>\n",
              "    </tr>\n",
              "    <tr>\n",
              "      <th>3</th>\n",
              "      <td>552</td>\n",
              "      <td>3440</td>\n",
              "      <td>Ween</td>\n",
              "      <td>0</td>\n",
              "      <td>0.000203</td>\n",
              "      <td>0</td>\n",
              "      <td>0</td>\n",
              "    </tr>\n",
              "    <tr>\n",
              "      <th>4</th>\n",
              "      <td>1707</td>\n",
              "      <td>1358</td>\n",
              "      <td>Judas Priest</td>\n",
              "      <td>1</td>\n",
              "      <td>0.087976</td>\n",
              "      <td>0</td>\n",
              "      <td>0</td>\n",
              "    </tr>\n",
              "    <tr>\n",
              "      <th>...</th>\n",
              "      <td>...</td>\n",
              "      <td>...</td>\n",
              "      <td>...</td>\n",
              "      <td>...</td>\n",
              "      <td>...</td>\n",
              "      <td>...</td>\n",
              "      <td>...</td>\n",
              "    </tr>\n",
              "    <tr>\n",
              "      <th>71425</th>\n",
              "      <td>467</td>\n",
              "      <td>7232</td>\n",
              "      <td>Jean-Jacques Goldman</td>\n",
              "      <td>1</td>\n",
              "      <td>0.038142</td>\n",
              "      <td>0</td>\n",
              "      <td>0</td>\n",
              "    </tr>\n",
              "    <tr>\n",
              "      <th>71426</th>\n",
              "      <td>229</td>\n",
              "      <td>1404</td>\n",
              "      <td>Lone</td>\n",
              "      <td>0</td>\n",
              "      <td>0.001262</td>\n",
              "      <td>0</td>\n",
              "      <td>0</td>\n",
              "    </tr>\n",
              "    <tr>\n",
              "      <th>71427</th>\n",
              "      <td>1625</td>\n",
              "      <td>2341</td>\n",
              "      <td>Twisted Sister</td>\n",
              "      <td>0</td>\n",
              "      <td>0.002150</td>\n",
              "      <td>0</td>\n",
              "      <td>0</td>\n",
              "    </tr>\n",
              "    <tr>\n",
              "      <th>71428</th>\n",
              "      <td>2013</td>\n",
              "      <td>15083</td>\n",
              "      <td>Mondo Grosso</td>\n",
              "      <td>0</td>\n",
              "      <td>0.002954</td>\n",
              "      <td>0</td>\n",
              "      <td>0</td>\n",
              "    </tr>\n",
              "    <tr>\n",
              "      <th>71429</th>\n",
              "      <td>42</td>\n",
              "      <td>7188</td>\n",
              "      <td>The Airborne Toxic Event</td>\n",
              "      <td>0</td>\n",
              "      <td>0.010657</td>\n",
              "      <td>0</td>\n",
              "      <td>0</td>\n",
              "    </tr>\n",
              "  </tbody>\n",
              "</table>\n",
              "<p>71430 rows × 7 columns</p>\n",
              "</div>"
            ],
            "text/plain": [
              "       userID  artistID  ... FriendsListening  FriendsRating\n",
              "0         853      5640  ...                0              0\n",
              "1        1275      7266  ...                0              0\n",
              "2        1649       300  ...                3              2\n",
              "3         552      3440  ...                0              0\n",
              "4        1707      1358  ...                0              0\n",
              "...       ...       ...  ...              ...            ...\n",
              "71425     467      7232  ...                0              0\n",
              "71426     229      1404  ...                0              0\n",
              "71427    1625      2341  ...                0              0\n",
              "71428    2013     15083  ...                0              0\n",
              "71429      42      7188  ...                0              0\n",
              "\n",
              "[71430 rows x 7 columns]"
            ]
          },
          "metadata": {
            "tags": []
          },
          "execution_count": 5
        }
      ]
    },
    {
      "cell_type": "markdown",
      "metadata": {
        "id": "QuemWqjC1ffp"
      },
      "source": [
        "# Approach 1 (dataset_1 only IR feature)"
      ]
    },
    {
      "cell_type": "code",
      "metadata": {
        "colab": {
          "base_uri": "https://localhost:8080/"
        },
        "id": "IILE5AiceKFZ",
        "outputId": "1c235280-ac14-44f0-9604-07041b19b608"
      },
      "source": [
        "print(len(df.loc[df['Label'] == 1]))\r\n",
        "print(len(df.loc[df['Label'] == 0]))"
      ],
      "execution_count": null,
      "outputs": [
        {
          "output_type": "stream",
          "text": [
            "31349\n",
            "48788\n"
          ],
          "name": "stdout"
        }
      ]
    },
    {
      "cell_type": "code",
      "metadata": {
        "colab": {
          "base_uri": "https://localhost:8080/",
          "height": 367
        },
        "id": "dRHCJfljcRvx",
        "outputId": "271abba8-e2ff-4229-e700-7a077e254617"
      },
      "source": [
        "#visualize data \r\n",
        "plt.figure(figsize=(14, 5)) \r\n",
        "\r\n",
        "plt.subplot(1,2,1)\r\n",
        "bins = np.linspace(0, 1, 15)\r\n",
        "plt.hist(df['IR'].loc[df['Label'] == 1].values,bins, alpha=0.5, label='1')\r\n",
        "plt.hist(df['IR'].loc[df['Label'] == 0].values,bins, alpha=0.5, label='0')\r\n",
        "plt.ylabel('Number of pairs')\r\n",
        "plt.xlabel('ItemRank score')\r\n",
        "plt.legend(loc='upper right')\r\n",
        "plt.title('Histogram - Dataset_1')\r\n",
        "\r\n",
        "\r\n",
        "plt.subplot(1,2,2)\r\n",
        "plt.scatter(df['IR'].values, df['Label'].values)\r\n",
        "plt.xlabel('ItemRank score')\r\n",
        "plt.ylabel('Label')\r\n",
        "plt.title('Scatterplot - Dataset_1')\r\n",
        "\r\n",
        "plt.show()\r\n",
        "plt.tight_layout"
      ],
      "execution_count": null,
      "outputs": [
        {
          "output_type": "display_data",
          "data": {
            "image/png": "[encoded data removed]",
            "text/plain": [
              "<Figure size 1008x360 with 2 Axes>"
            ]
          },
          "metadata": {
            "tags": [],
            "needs_background": "light"
          }
        },
        {
          "output_type": "execute_result",
          "data": {
            "text/plain": [
              "<function matplotlib.pyplot.tight_layout>"
            ]
          },
          "metadata": {
            "tags": []
          },
          "execution_count": 7
        }
      ]
    },
    {
      "cell_type": "code",
      "metadata": {
        "colab": {
          "base_uri": "https://localhost:8080/"
        },
        "id": "7A1OBWfCioyz",
        "outputId": "c234d27d-bed7-46a9-e9e6-b05e8de94147"
      },
      "source": [
        "# create X\r\n",
        "X = np.array(df['IR'])\r\n",
        "X.shape"
      ],
      "execution_count": null,
      "outputs": [
        {
          "output_type": "execute_result",
          "data": {
            "text/plain": [
              "(80137,)"
            ]
          },
          "metadata": {
            "tags": []
          },
          "execution_count": 8
        }
      ]
    },
    {
      "cell_type": "code",
      "metadata": {
        "colab": {
          "base_uri": "https://localhost:8080/"
        },
        "id": "VNi6dBRzkWYa",
        "outputId": "2a83e35f-0214-4508-f476-150cf652d952"
      },
      "source": [
        "# create y\r\n",
        "y = np.array(df['Label'])\r\n",
        "y.shape"
      ],
      "execution_count": null,
      "outputs": [
        {
          "output_type": "execute_result",
          "data": {
            "text/plain": [
              "(80137,)"
            ]
          },
          "metadata": {
            "tags": []
          },
          "execution_count": 9
        }
      ]
    },
    {
      "cell_type": "code",
      "metadata": {
        "id": "XYF0Jel91GMB"
      },
      "source": [
        "# divide data into training and test split\r\n",
        "X_train = X[:65000].reshape(-1, 1)\r\n",
        "X_test = X[65000:].reshape(-1, 1)\r\n",
        "\r\n",
        "y_train = y[:65000]\r\n",
        "y_test = y[65000:]"
      ],
      "execution_count": null,
      "outputs": []
    },
    {
      "cell_type": "markdown",
      "metadata": {
        "id": "wX9eTEeX120D"
      },
      "source": [
        "## Logistic Regression"
      ]
    },
    {
      "cell_type": "markdown",
      "metadata": {
        "id": "9kwb9bqC-e36"
      },
      "source": [
        "### Model Selection"
      ]
    },
    {
      "cell_type": "code",
      "metadata": {
        "colab": {
          "base_uri": "https://localhost:8080/"
        },
        "id": "T1HDZiCow16U",
        "outputId": "1cab36f3-d25c-45e8-ffae-7c7919562959"
      },
      "source": [
        "C_param_range = [0.001,0.01,0.1,1,10,100]\r\n",
        "\r\n",
        "for c in C_param_range:\r\n",
        "\r\n",
        "    model_LR = LogisticRegression(C = c)\r\n",
        "    model_LR.fit(X_train, y_train)\r\n",
        "\r\n",
        "    model_LR_mean_score = np.mean(cross_val_score(model_LR, X_train, y_train, cv=5))\r\n",
        "    print('Mean cross validation score '+str(model_LR_mean_score ))"
      ],
      "execution_count": null,
      "outputs": [
        {
          "output_type": "stream",
          "text": [
            "Mean cross validation score 0.6766923076923078\n",
            "Mean cross validation score 0.7402615384615384\n",
            "Mean cross validation score 0.7649230769230769\n",
            "Mean cross validation score 0.7689230769230769\n",
            "Mean cross validation score 0.7694923076923078\n",
            "Mean cross validation score 0.7695846153846155\n"
          ],
          "name": "stdout"
        }
      ]
    },
    {
      "cell_type": "code",
      "metadata": {
        "colab": {
          "base_uri": "https://localhost:8080/"
        },
        "id": "iGTIfDXh3lhW",
        "outputId": "261b0db7-6e77-49e8-9e08-550867328126"
      },
      "source": [
        "model_LR = LogisticRegression()\r\n",
        "# Fit model\r\n",
        "model_LR.fit(X_train, y_train)\r\n",
        "print(\"Traning accuracy for Linear Regression: {}\".format(model_LR.score(X_train, y_train)))"
      ],
      "execution_count": null,
      "outputs": [
        {
          "output_type": "stream",
          "text": [
            "Traning accuracy for Linear Regression: 0.7690769230769231\n"
          ],
          "name": "stdout"
        }
      ]
    },
    {
      "cell_type": "markdown",
      "metadata": {
        "id": "tOM42-6BNETK"
      },
      "source": [
        "### Evaluation"
      ]
    },
    {
      "cell_type": "code",
      "metadata": {
        "colab": {
          "base_uri": "https://localhost:8080/",
          "height": 315
        },
        "id": "vBe2znqX4lgG",
        "outputId": "692230c5-9f6c-4612-b46e-56d51136d31a"
      },
      "source": [
        "# TEST DATA\r\n",
        "# score\r\n",
        "print('Test score '+str(model_LR.score(X_test, y_test) ))\r\n",
        "# confusion matrix\r\n",
        "cm = confusion_matrix(y_test, model_LR.predict(X_test))\r\n",
        "fig, ax = plt.subplots(figsize=(4, 4))\r\n",
        "ax.imshow(cm)\r\n",
        "ax.grid(False)\r\n",
        "ax.xaxis.set(ticks=(0, 1), ticklabels=('Predicted 0s', 'Predicted 1s'))\r\n",
        "ax.yaxis.set(ticks=(0, 1), ticklabels=('Actual 0s', 'Actual 1s'))\r\n",
        "ax.set_ylim(1.5, -0.5)\r\n",
        "for i in range(2):\r\n",
        "    for j in range(2):\r\n",
        "        ax.text(j, i, cm[i, j], ha='center', va='center')\r\n",
        "plt.show()\r\n",
        "\r\n",
        "# Specificity and sensitivity\r\n",
        "tn, fp, fn, tp = confusion_matrix(y_test, model_LR.predict(X_test)).ravel()\r\n",
        "specificity = tn / (tn+fp)\r\n",
        "sensitivity = tp / (tp+fn)\r\n",
        "print('Sensitivity = '+str(sensitivity))\r\n",
        "print('Specificity = '+str(specificity))"
      ],
      "execution_count": null,
      "outputs": [
        {
          "output_type": "stream",
          "text": [
            "Test score 0.769439122679527\n"
          ],
          "name": "stdout"
        },
        {
          "output_type": "display_data",
          "data": {
            "image/png": "[encoded data removed]",
            "text/plain": [
              "<Figure size 288x288 with 1 Axes>"
            ]
          },
          "metadata": {
            "tags": [],
            "needs_background": "light"
          }
        },
        {
          "output_type": "stream",
          "text": [
            "Sensitivity = 0.5100320350699713\n",
            "Specificity = 0.9365631110145557\n"
          ],
          "name": "stdout"
        }
      ]
    },
    {
      "cell_type": "code",
      "metadata": {
        "colab": {
          "base_uri": "https://localhost:8080/"
        },
        "id": "afxPrRiT2DpX",
        "outputId": "087eb10f-ed09-47b1-f404-2aa45c6f31d4"
      },
      "source": [
        "model_LR.predict_proba(X_test)[28] "
      ],
      "execution_count": null,
      "outputs": [
        {
          "output_type": "execute_result",
          "data": {
            "text/plain": [
              "array([0.50711134, 0.49288866])"
            ]
          },
          "metadata": {
            "tags": []
          },
          "execution_count": 13
        }
      ]
    },
    {
      "cell_type": "code",
      "metadata": {
        "colab": {
          "base_uri": "https://localhost:8080/"
        },
        "id": "qiKLnpqL2dJ0",
        "outputId": "9a9fb625-e560-479b-86f8-c0f85dd69079"
      },
      "source": [
        "model_LR.predict(X_test)[28] "
      ],
      "execution_count": null,
      "outputs": [
        {
          "output_type": "execute_result",
          "data": {
            "text/plain": [
              "0"
            ]
          },
          "metadata": {
            "tags": []
          },
          "execution_count": 14
        }
      ]
    },
    {
      "cell_type": "code",
      "metadata": {
        "colab": {
          "base_uri": "https://localhost:8080/"
        },
        "id": "MFW98NFTnE41",
        "outputId": "2edb5e15-765e-419f-ee5a-ac3efa00f008"
      },
      "source": [
        "# generate a no skill prediction (majority class)\r\n",
        "ns_probs = [0 for _ in range(len(y_test))]\r\n",
        "# predict probabilities\r\n",
        "LR_probs = model_LR.predict_proba(X_test)\r\n",
        "# keep probabilities for the positive outcome only\r\n",
        "LR_probs = LR_probs[:, 1]\r\n",
        "# calculate scores\r\n",
        "ns_auc = roc_auc_score(y_test, ns_probs)\r\n",
        "LR_auc = roc_auc_score(y_test, LR_probs)\r\n",
        "# summarize scores\r\n",
        "print('Logistic Regression: ROC AUC = %.3f' % (LR_auc))"
      ],
      "execution_count": null,
      "outputs": [
        {
          "output_type": "stream",
          "text": [
            "Logistic Regression: ROC AUC = 0.843\n"
          ],
          "name": "stdout"
        }
      ]
    },
    {
      "cell_type": "markdown",
      "metadata": {
        "id": "XJIUxJ55NHmc"
      },
      "source": [
        "## SVC"
      ]
    },
    {
      "cell_type": "markdown",
      "metadata": {
        "id": "sNQiBTYyNUjd"
      },
      "source": [
        "### Model Selection"
      ]
    },
    {
      "cell_type": "code",
      "metadata": {
        "id": "1InuZTZWNVKe"
      },
      "source": [
        "C_input = [0.1,1,10,100]\r\n",
        "G_input = [0.01,0.1,'auto',10]\r\n",
        "kernel_input = ['rbf', 'linear']\r\n",
        "for i in range(len(C_input)):\r\n",
        "    for j in range(len(G_input)):\r\n",
        "        for k in range(len(kernel_input)):\r\n",
        "            svc = svm.SVC(C=C_input[i], kernel=kernel_input[k], gamma=G_input[j])\r\n",
        "            score = np.mean(cross_val_score(svc, X_train, y_train, cv=5))\r\n",
        "            print('C:'+ str(C_input[i]) + ', gamma:'+ str(G_input[j]) +', kernel:'+ str(kernel_input[k]) +', score:'+str(score))"
      ],
      "execution_count": null,
      "outputs": []
    },
    {
      "cell_type": "code",
      "metadata": {
        "colab": {
          "base_uri": "https://localhost:8080/"
        },
        "id": "ypXLWO8s4bZh",
        "outputId": "83d9590e-b3a8-4e0f-8636-02fa02d80678"
      },
      "source": [
        "C_input = [5,10]\r\n",
        "G_input = ['auto',5]\r\n",
        "kernel_input = 'rbf'\r\n",
        "for i in range(len(C_input)):\r\n",
        "      for j in range(len(G_input)):\r\n",
        "        svc = svm.SVC(C=C_input[i], kernel=kernel_input, gamma=G_input[j])\r\n",
        "        score = np.mean(cross_val_score(svc, X_train, y_train, cv=5))\r\n",
        "        print('C:'+ str(C_input[i]) + ', gamma:'+ str(G_input[j]) +', score:'+str(score))"
      ],
      "execution_count": null,
      "outputs": [
        {
          "output_type": "stream",
          "text": [
            "C:5, gamma:auto, score:0.7830461538461538\n",
            "C:5, gamma:5, score:0.7847999999999999\n",
            "C:10, gamma:auto, score:0.7836769230769229\n",
            "C:10, gamma:5, score:0.7831230769230769\n"
          ],
          "name": "stdout"
        }
      ]
    },
    {
      "cell_type": "code",
      "metadata": {
        "colab": {
          "base_uri": "https://localhost:8080/"
        },
        "id": "-2flugSlNYoM",
        "outputId": "1e9623ce-aa7e-4359-c723-78e65c4951d8"
      },
      "source": [
        "# good enought for C=10, we don't want to overfit \r\n",
        "svc = svm.SVC(C=10, kernel='rbf', probability=True)\r\n",
        "# fit model\r\n",
        "svc.fit(X_train, y_train)\r\n",
        "print(\"Traning accuracy for SVC: {}\".format(svc.score(X_train, y_train)))"
      ],
      "execution_count": null,
      "outputs": [
        {
          "output_type": "stream",
          "text": [
            "Traning accuracy for SVM: 0.7844769230769231\n"
          ],
          "name": "stdout"
        }
      ]
    },
    {
      "cell_type": "markdown",
      "metadata": {
        "id": "YN75zwDHP36e"
      },
      "source": [
        "### Evaluation"
      ]
    },
    {
      "cell_type": "code",
      "metadata": {
        "colab": {
          "base_uri": "https://localhost:8080/",
          "height": 315
        },
        "id": "OEqrPWq2P-O2",
        "outputId": "39a35209-3f8b-4be4-fbd3-4943696c55c5"
      },
      "source": [
        "# TEST DATA\r\n",
        "# score\r\n",
        "print('Testing accuracy for SVC: '+str(svc.score(X_test, y_test) ))\r\n",
        "# confusion matrix\r\n",
        "cm = confusion_matrix(y_test, svc.predict(X_test))\r\n",
        "fig, ax = plt.subplots(figsize=(4, 4))\r\n",
        "ax.imshow(cm)\r\n",
        "ax.grid(False)\r\n",
        "ax.xaxis.set(ticks=(0, 1), ticklabels=('Predicted 0s', 'Predicted 1s'))\r\n",
        "ax.yaxis.set(ticks=(0, 1), ticklabels=('Actual 0s', 'Actual 1s'))\r\n",
        "ax.set_ylim(1.5, -0.5)\r\n",
        "for i in range(2):\r\n",
        "    for j in range(2):\r\n",
        "        ax.text(j, i, cm[i, j], ha='center', va='center')\r\n",
        "plt.show()\r\n",
        "\r\n",
        "# Specificity and sensitivity\r\n",
        "tn, fp, fn, tp = confusion_matrix(y_test, svc.predict(X_test)).ravel()\r\n",
        "specificity = tn / (tn+fp)\r\n",
        "sensitivity = tp / (tp+fn)\r\n",
        "print('Sensitivity = '+str(sensitivity))\r\n",
        "print('Specificity = '+str(specificity))"
      ],
      "execution_count": null,
      "outputs": [
        {
          "output_type": "stream",
          "text": [
            "Testing accuracy for SVC: 0.785162185373588\n"
          ],
          "name": "stdout"
        },
        {
          "output_type": "display_data",
          "data": {
            "image/png": "[encoded data removed]",
            "text/plain": [
              "<Figure size 288x288 with 1 Axes>"
            ]
          },
          "metadata": {
            "tags": [],
            "needs_background": "light"
          }
        },
        {
          "output_type": "stream",
          "text": [
            "Sensitivity = 0.6122070477153937\n",
            "Specificity = 0.8965891809689333\n"
          ],
          "name": "stdout"
        }
      ]
    },
    {
      "cell_type": "code",
      "metadata": {
        "colab": {
          "base_uri": "https://localhost:8080/"
        },
        "id": "XZi6-r5A2pc8",
        "outputId": "99cb69a9-f1ab-44be-a446-3062757b6ec9"
      },
      "source": [
        "svc.predict_proba(X_test)[72] "
      ],
      "execution_count": null,
      "outputs": [
        {
          "output_type": "execute_result",
          "data": {
            "text/plain": [
              "array([0.55881809, 0.44118191])"
            ]
          },
          "metadata": {
            "tags": []
          },
          "execution_count": 18
        }
      ]
    },
    {
      "cell_type": "code",
      "metadata": {
        "colab": {
          "base_uri": "https://localhost:8080/"
        },
        "id": "Zji_bwAB2uba",
        "outputId": "3bc404f7-2cb5-4863-a64e-3251fe19dee0"
      },
      "source": [
        "svc.predict(X_test)[72] "
      ],
      "execution_count": null,
      "outputs": [
        {
          "output_type": "execute_result",
          "data": {
            "text/plain": [
              "0"
            ]
          },
          "metadata": {
            "tags": []
          },
          "execution_count": 19
        }
      ]
    },
    {
      "cell_type": "code",
      "metadata": {
        "colab": {
          "base_uri": "https://localhost:8080/"
        },
        "id": "UTAEuAOuQF6m",
        "outputId": "55b1fb4a-2b98-4f0f-b2cf-f03da75c0d36"
      },
      "source": [
        "# generate a no skill prediction (majority class)\r\n",
        "ns_probs = [0 for _ in range(len(y_test))]\r\n",
        "# predict probabilities\r\n",
        "svc_probs = svc.predict_proba(X_test)\r\n",
        "# keep probabilities for the positive outcome only\r\n",
        "svc_probs = svc_probs[:, 1]\r\n",
        "# calculate scores\r\n",
        "ns_auc = roc_auc_score(y_test, ns_probs)\r\n",
        "svc_auc = roc_auc_score(y_test, svc_probs)\r\n",
        "# summarize scores\r\n",
        "print('SVC: ROC AUC = %.3f' % (svc_auc))"
      ],
      "execution_count": null,
      "outputs": [
        {
          "output_type": "stream",
          "text": [
            "SVC: ROC AUC = 0.820\n"
          ],
          "name": "stdout"
        }
      ]
    },
    {
      "cell_type": "markdown",
      "metadata": {
        "id": "1kedrb7ZtAX0"
      },
      "source": [
        "## Random Forest"
      ]
    },
    {
      "cell_type": "markdown",
      "metadata": {
        "id": "cE-F8sfftlcd"
      },
      "source": [
        "### Model Selection"
      ]
    },
    {
      "cell_type": "code",
      "metadata": {
        "colab": {
          "base_uri": "https://localhost:8080/"
        },
        "id": "KhTsR7PgtYVS",
        "outputId": "a021633e-1ac6-45cc-afde-8fd163e18866"
      },
      "source": [
        "N_input = [3,10,100,300,1000]\r\n",
        "D_input = [3,10,20,40,100]\r\n",
        "for i in range(len(N_input)):\r\n",
        "    for j in range(len(D_input)):\r\n",
        "        rfc = RandomForestClassifier(n_estimators=N_input[i], max_depth=D_input[j])\r\n",
        "        score = np.mean(cross_val_score(rfc, X_train, y_train, cv=5))\r\n",
        "        print('# estimators:'+ str(N_input[i]) + ', depth:'+ str(D_input[j]) +', score:'+str(score))"
      ],
      "execution_count": null,
      "outputs": [
        {
          "output_type": "stream",
          "text": [
            "# estimators:3, depth:3, score:0.7867076923076923\n",
            "# estimators:3, depth:10, score:0.7826615384615385\n",
            "# estimators:3, depth:20, score:0.7596307692307693\n",
            "# estimators:3, depth:40, score:0.7155230769230769\n",
            "# estimators:3, depth:100, score:0.7050769230769232\n",
            "# estimators:10, depth:3, score:0.7864307692307693\n",
            "# estimators:10, depth:10, score:0.7854461538461538\n",
            "# estimators:10, depth:20, score:0.7654615384615385\n",
            "# estimators:10, depth:40, score:0.7127076923076923\n",
            "# estimators:10, depth:100, score:0.7091846153846154\n",
            "# estimators:100, depth:3, score:0.7869538461538462\n",
            "# estimators:100, depth:10, score:0.7865076923076924\n",
            "# estimators:100, depth:20, score:0.772123076923077\n",
            "# estimators:100, depth:40, score:0.7084\n",
            "# estimators:100, depth:100, score:0.7012615384615384\n",
            "# estimators:300, depth:3, score:0.7867692307692308\n",
            "# estimators:300, depth:10, score:0.7867230769230769\n",
            "# estimators:300, depth:20, score:0.7724153846153846\n",
            "# estimators:300, depth:40, score:0.7061230769230769\n",
            "# estimators:300, depth:100, score:0.7016461538461538\n",
            "# estimators:1000, depth:3, score:0.7868153846153846\n",
            "# estimators:1000, depth:10, score:0.7864461538461539\n",
            "# estimators:1000, depth:20, score:0.7728923076923078\n",
            "# estimators:1000, depth:40, score:0.7062153846153847\n",
            "# estimators:1000, depth:100, score:0.7014615384615384\n"
          ],
          "name": "stdout"
        }
      ]
    },
    {
      "cell_type": "code",
      "metadata": {
        "colab": {
          "base_uri": "https://localhost:8080/"
        },
        "id": "7OBlwKm7rP5G",
        "outputId": "4ea2356c-a1e4-4539-ad2c-dcfff9b4ae8d"
      },
      "source": [
        "N_input = [3,10,100,300,1000]\r\n",
        "D_input = [1,2,3,5,8,10]\r\n",
        "for i in range(len(N_input)):\r\n",
        "    for j in range(len(D_input)):\r\n",
        "        rfc = RandomForestClassifier(n_estimators=N_input[i], max_depth=D_input[j])\r\n",
        "        score = np.mean(cross_val_score(rfc, X_train, y_train, cv=5))\r\n",
        "        print('# estimators:'+ str(N_input[i]) + ', depth:'+ str(D_input[j]) +', score:'+str(score))"
      ],
      "execution_count": null,
      "outputs": [
        {
          "output_type": "stream",
          "text": [
            "# estimators:3, depth:1, score:0.7861846153846154\n",
            "# estimators:3, depth:2, score:0.7861076923076922\n",
            "# estimators:3, depth:3, score:0.7865076923076924\n",
            "# estimators:3, depth:5, score:0.7868153846153847\n",
            "# estimators:3, depth:8, score:0.7849384615384616\n",
            "# estimators:3, depth:10, score:0.7827846153846154\n",
            "# estimators:10, depth:1, score:0.786676923076923\n",
            "# estimators:10, depth:2, score:0.7866923076923078\n",
            "# estimators:10, depth:3, score:0.7868615384615385\n",
            "# estimators:10, depth:5, score:0.7872307692307692\n",
            "# estimators:10, depth:8, score:0.7864461538461539\n",
            "# estimators:10, depth:10, score:0.785723076923077\n",
            "# estimators:100, depth:1, score:0.786676923076923\n",
            "# estimators:100, depth:2, score:0.786676923076923\n",
            "# estimators:100, depth:3, score:0.7868769230769231\n",
            "# estimators:100, depth:5, score:0.7867076923076922\n",
            "# estimators:100, depth:8, score:0.7868307692307692\n",
            "# estimators:100, depth:10, score:0.7868461538461539\n",
            "# estimators:300, depth:1, score:0.7866615384615384\n",
            "# estimators:300, depth:2, score:0.786676923076923\n",
            "# estimators:300, depth:3, score:0.786723076923077\n",
            "# estimators:300, depth:5, score:0.786646153846154\n",
            "# estimators:300, depth:8, score:0.7867846153846154\n",
            "# estimators:300, depth:10, score:0.7867384615384616\n",
            "# estimators:1000, depth:1, score:0.7865692307692308\n",
            "# estimators:1000, depth:2, score:0.7866615384615384\n",
            "# estimators:1000, depth:3, score:0.7867846153846154\n",
            "# estimators:1000, depth:5, score:0.7866615384615384\n",
            "# estimators:1000, depth:8, score:0.786646153846154\n",
            "# estimators:1000, depth:10, score:0.7867384615384616\n"
          ],
          "name": "stdout"
        }
      ]
    },
    {
      "cell_type": "code",
      "metadata": {
        "colab": {
          "base_uri": "https://localhost:8080/"
        },
        "id": "ISbG7BuUuJ0f",
        "outputId": "63d6a4f4-f87b-46e2-da0f-8875a13dd2cf"
      },
      "source": [
        "rfc = RandomForestClassifier(n_estimators=10, max_depth=3)\r\n",
        "rfc.fit(X_train, y_train)\r\n",
        "\r\n",
        "print(\"Traning accuracy for Random Forest: {}\".format(rfc.score(X_train, y_train)))"
      ],
      "execution_count": null,
      "outputs": [
        {
          "output_type": "stream",
          "text": [
            "Traning accuracy for Random Forest: 0.7873230769230769\n"
          ],
          "name": "stdout"
        }
      ]
    },
    {
      "cell_type": "markdown",
      "metadata": {
        "id": "9YhbQClFuj7U"
      },
      "source": [
        "### Evaluation"
      ]
    },
    {
      "cell_type": "code",
      "metadata": {
        "colab": {
          "base_uri": "https://localhost:8080/",
          "height": 315
        },
        "id": "An-ygdVXuoy3",
        "outputId": "6dbe5eac-5234-4970-f520-6cec41011d6f"
      },
      "source": [
        "# TEST DATA\r\n",
        "# score\r\n",
        "print('Testing accuracy for RFC: '+str(rfc.score(X_test, y_test) ))\r\n",
        "# confusion matrix\r\n",
        "cm = confusion_matrix(y_test, rfc.predict(X_test))\r\n",
        "fig, ax = plt.subplots(figsize=(4, 4))\r\n",
        "ax.imshow(cm)\r\n",
        "ax.grid(False)\r\n",
        "ax.xaxis.set(ticks=(0, 1), ticklabels=('Predicted 0s', 'Predicted 1s'))\r\n",
        "ax.yaxis.set(ticks=(0, 1), ticklabels=('Actual 0s', 'Actual 1s'))\r\n",
        "ax.set_ylim(1.5, -0.5)\r\n",
        "for i in range(2):\r\n",
        "    for j in range(2):\r\n",
        "        ax.text(j, i, cm[i, j], ha='center', va='center')\r\n",
        "plt.show()\r\n",
        "\r\n",
        "# Specificity and sensitivity\r\n",
        "tn, fp, fn, tp = confusion_matrix(y_test, rfc.predict(X_test)).ravel()\r\n",
        "specificity = tn / (tn+fp)\r\n",
        "sensitivity = tp / (tp+fn)\r\n",
        "print('Sensitivity = '+str(sensitivity))\r\n",
        "print('Specificity = '+str(specificity))"
      ],
      "execution_count": null,
      "outputs": [
        {
          "output_type": "stream",
          "text": [
            "Testing accuracy for RFC: 0.7868137675893506\n"
          ],
          "name": "stdout"
        },
        {
          "output_type": "display_data",
          "data": {
            "image/png": "[encoded data removed]",
            "text/plain": [
              "<Figure size 288x288 with 1 Axes>"
            ]
          },
          "metadata": {
            "tags": [],
            "needs_background": "light"
          }
        },
        {
          "output_type": "stream",
          "text": [
            "Sensitivity = 0.6767830045523521\n",
            "Specificity = 0.8577014990223767\n"
          ],
          "name": "stdout"
        }
      ]
    },
    {
      "cell_type": "code",
      "metadata": {
        "colab": {
          "base_uri": "https://localhost:8080/"
        },
        "id": "5UiVy5x93oyi",
        "outputId": "1e688dca-d76f-4eec-f87c-5971521b1ed3"
      },
      "source": [
        "rfc.predict_proba(X_test)[6] "
      ],
      "execution_count": null,
      "outputs": [
        {
          "output_type": "execute_result",
          "data": {
            "text/plain": [
              "array([0.49412512, 0.50587488])"
            ]
          },
          "metadata": {
            "tags": []
          },
          "execution_count": 23
        }
      ]
    },
    {
      "cell_type": "code",
      "metadata": {
        "colab": {
          "base_uri": "https://localhost:8080/"
        },
        "id": "7RSUuqZc3rAK",
        "outputId": "fb1a898e-1927-437a-8320-6a503c7d6914"
      },
      "source": [
        "rfc.predict(X_test)[6] "
      ],
      "execution_count": null,
      "outputs": [
        {
          "output_type": "execute_result",
          "data": {
            "text/plain": [
              "1"
            ]
          },
          "metadata": {
            "tags": []
          },
          "execution_count": 24
        }
      ]
    },
    {
      "cell_type": "code",
      "metadata": {
        "colab": {
          "base_uri": "https://localhost:8080/"
        },
        "id": "BhaXaArku541",
        "outputId": "579ac4fb-dc2b-43dd-c9bf-40843af83335"
      },
      "source": [
        "# generate a no skill prediction (majority class)\r\n",
        "ns_probs = [0 for _ in range(len(y_test))]\r\n",
        "# predict probabilities\r\n",
        "rfc_probs = rfc.predict_proba(X_test)\r\n",
        "# keep probabilities for the positive outcome only\r\n",
        "rfc_probs = rfc_probs[:, 1]\r\n",
        "# calculate scores\r\n",
        "ns_auc = roc_auc_score(y_test, ns_probs)\r\n",
        "rfc_auc = roc_auc_score(y_test, rfc_probs)\r\n",
        "# summarize scores\r\n",
        "print('RFC: ROC AUC = %.3f' % (rfc_auc))"
      ],
      "execution_count": null,
      "outputs": [
        {
          "output_type": "stream",
          "text": [
            "RFC: ROC AUC = 0.842\n"
          ],
          "name": "stdout"
        }
      ]
    },
    {
      "cell_type": "markdown",
      "metadata": {
        "id": "Z7OdcVaJXsfB"
      },
      "source": [
        "## Comparison"
      ]
    },
    {
      "cell_type": "code",
      "metadata": {
        "colab": {
          "base_uri": "https://localhost:8080/",
          "height": 279
        },
        "id": "ftVlB9Xlu-HD",
        "outputId": "cd28f13a-b896-455d-d20e-319e50989ea0"
      },
      "source": [
        "# calculate roc curves\r\n",
        "ns_fpr, ns_tpr, _ = roc_curve(y_test, ns_probs)\r\n",
        "LR_fpr, LR_tpr, _ = roc_curve(y_test, LR_probs)\r\n",
        "rfc_fpr, rfc_tpr, _ = roc_curve(y_test, rfc_probs)\r\n",
        "svc_fpr, svc_tpr, _ = roc_curve(y_test, svc_probs)\r\n",
        "# plot the roc curve for the model\r\n",
        "plt.plot(ns_fpr, ns_tpr, linestyle='--')\r\n",
        "plt.plot(LR_fpr, LR_tpr, marker='.', label='Logistic Regression')\r\n",
        "plt.plot(svc_fpr, svc_tpr, marker='.', label='SVC')\r\n",
        "plt.plot(rfc_fpr, rfc_tpr, marker='.', label='RFC')\r\n",
        "plt.xlabel('False Positive Rate')\r\n",
        "plt.ylabel('True Positive Rate')\r\n",
        "plt.legend()\r\n",
        "plt.show()\r\n"
      ],
      "execution_count": null,
      "outputs": [
        {
          "output_type": "display_data",
          "data": {
            "image/png": "[encoded data removed]",
            "text/plain": [
              "<Figure size 432x288 with 1 Axes>"
            ]
          },
          "metadata": {
            "tags": [],
            "needs_background": "light"
          }
        }
      ]
    },
    {
      "cell_type": "markdown",
      "metadata": {
        "id": "PumIglODib5t"
      },
      "source": [
        "# Approach 2 ( dataset_1  + user friends feature)"
      ]
    },
    {
      "cell_type": "code",
      "metadata": {
        "colab": {
          "base_uri": "https://localhost:8080/",
          "height": 419
        },
        "id": "Y4D7UNtagpkR",
        "outputId": "abc38b9a-1b81-4300-8145-3b54e7c6cdb5"
      },
      "source": [
        "df"
      ],
      "execution_count": null,
      "outputs": [
        {
          "output_type": "execute_result",
          "data": {
            "text/html": [
              "<div>\n",
              "<style scoped>\n",
              "    .dataframe tbody tr th:only-of-type {\n",
              "        vertical-align: middle;\n",
              "    }\n",
              "\n",
              "    .dataframe tbody tr th {\n",
              "        vertical-align: top;\n",
              "    }\n",
              "\n",
              "    .dataframe thead th {\n",
              "        text-align: right;\n",
              "    }\n",
              "</style>\n",
              "<table border=\"1\" class=\"dataframe\">\n",
              "  <thead>\n",
              "    <tr style=\"text-align: right;\">\n",
              "      <th></th>\n",
              "      <th>userID</th>\n",
              "      <th>artistID</th>\n",
              "      <th>name</th>\n",
              "      <th>Label</th>\n",
              "      <th>IR</th>\n",
              "      <th>FriendsListening</th>\n",
              "      <th>FriendsRating</th>\n",
              "    </tr>\n",
              "  </thead>\n",
              "  <tbody>\n",
              "    <tr>\n",
              "      <th>0</th>\n",
              "      <td>1734</td>\n",
              "      <td>462</td>\n",
              "      <td>Blue</td>\n",
              "      <td>1</td>\n",
              "      <td>0.042589</td>\n",
              "      <td>0</td>\n",
              "      <td>0</td>\n",
              "    </tr>\n",
              "    <tr>\n",
              "      <th>1</th>\n",
              "      <td>1671</td>\n",
              "      <td>2834</td>\n",
              "      <td>Lynyrd Skynyrd</td>\n",
              "      <td>1</td>\n",
              "      <td>0.115877</td>\n",
              "      <td>3</td>\n",
              "      <td>2</td>\n",
              "    </tr>\n",
              "    <tr>\n",
              "      <th>2</th>\n",
              "      <td>1519</td>\n",
              "      <td>2608</td>\n",
              "      <td>City and Colour</td>\n",
              "      <td>1</td>\n",
              "      <td>0.038584</td>\n",
              "      <td>0</td>\n",
              "      <td>0</td>\n",
              "    </tr>\n",
              "    <tr>\n",
              "      <th>3</th>\n",
              "      <td>776</td>\n",
              "      <td>2820</td>\n",
              "      <td>Sakura</td>\n",
              "      <td>0</td>\n",
              "      <td>0.003305</td>\n",
              "      <td>1</td>\n",
              "      <td>1</td>\n",
              "    </tr>\n",
              "    <tr>\n",
              "      <th>4</th>\n",
              "      <td>29</td>\n",
              "      <td>951</td>\n",
              "      <td>Bon Jovi</td>\n",
              "      <td>1</td>\n",
              "      <td>0.065713</td>\n",
              "      <td>0</td>\n",
              "      <td>0</td>\n",
              "    </tr>\n",
              "    <tr>\n",
              "      <th>...</th>\n",
              "      <td>...</td>\n",
              "      <td>...</td>\n",
              "      <td>...</td>\n",
              "      <td>...</td>\n",
              "      <td>...</td>\n",
              "      <td>...</td>\n",
              "      <td>...</td>\n",
              "    </tr>\n",
              "    <tr>\n",
              "      <th>80132</th>\n",
              "      <td>772</td>\n",
              "      <td>8258</td>\n",
              "      <td>Emil Bulls</td>\n",
              "      <td>1</td>\n",
              "      <td>0.000531</td>\n",
              "      <td>0</td>\n",
              "      <td>0</td>\n",
              "    </tr>\n",
              "    <tr>\n",
              "      <th>80133</th>\n",
              "      <td>780</td>\n",
              "      <td>4767</td>\n",
              "      <td>Aura Dione</td>\n",
              "      <td>0</td>\n",
              "      <td>0.002057</td>\n",
              "      <td>0</td>\n",
              "      <td>0</td>\n",
              "    </tr>\n",
              "    <tr>\n",
              "      <th>80134</th>\n",
              "      <td>409</td>\n",
              "      <td>1964</td>\n",
              "      <td>Deerhunter</td>\n",
              "      <td>0</td>\n",
              "      <td>0.025713</td>\n",
              "      <td>0</td>\n",
              "      <td>0</td>\n",
              "    </tr>\n",
              "    <tr>\n",
              "      <th>80135</th>\n",
              "      <td>1902</td>\n",
              "      <td>2572</td>\n",
              "      <td>Minus the Bear</td>\n",
              "      <td>0</td>\n",
              "      <td>0.014403</td>\n",
              "      <td>0</td>\n",
              "      <td>0</td>\n",
              "    </tr>\n",
              "    <tr>\n",
              "      <th>80136</th>\n",
              "      <td>113</td>\n",
              "      <td>1729</td>\n",
              "      <td>Craig Armstrong</td>\n",
              "      <td>0</td>\n",
              "      <td>0.012951</td>\n",
              "      <td>0</td>\n",
              "      <td>0</td>\n",
              "    </tr>\n",
              "  </tbody>\n",
              "</table>\n",
              "<p>80137 rows × 7 columns</p>\n",
              "</div>"
            ],
            "text/plain": [
              "       userID  artistID  ... FriendsListening  FriendsRating\n",
              "0        1734       462  ...                0              0\n",
              "1        1671      2834  ...                3              2\n",
              "2        1519      2608  ...                0              0\n",
              "3         776      2820  ...                1              1\n",
              "4          29       951  ...                0              0\n",
              "...       ...       ...  ...              ...            ...\n",
              "80132     772      8258  ...                0              0\n",
              "80133     780      4767  ...                0              0\n",
              "80134     409      1964  ...                0              0\n",
              "80135    1902      2572  ...                0              0\n",
              "80136     113      1729  ...                0              0\n",
              "\n",
              "[80137 rows x 7 columns]"
            ]
          },
          "metadata": {
            "tags": []
          },
          "execution_count": 26
        }
      ]
    },
    {
      "cell_type": "code",
      "metadata": {
        "colab": {
          "base_uri": "https://localhost:8080/",
          "height": 367
        },
        "id": "giq1Npx-PPh6",
        "outputId": "d8a9c3e6-7703-4722-de9e-08697fcabd04"
      },
      "source": [
        "# visualize data for listening counts\r\n",
        "plt.figure(figsize=(14, 5)) \r\n",
        "\r\n",
        "plt.subplot(1,2,1)\r\n",
        "bins = [0,1,2,3,4,5,7,10,14,20]\r\n",
        "plt.hist(df['FriendsListening'].loc[df['Label'] == 1].values,bins, alpha=0.5, label='1')\r\n",
        "plt.hist(df['FriendsListening'].loc[df['Label'] == 0].values,bins, alpha=0.5, label='0')\r\n",
        "plt.ylabel('Number of pairs')\r\n",
        "plt.xlabel('number of friends listening')\r\n",
        "plt.legend(loc='upper right')\r\n",
        "plt.title('Histogram - Dataset_1')\r\n",
        "\r\n",
        "\r\n",
        "plt.subplot(1,2,2)\r\n",
        "plt.scatter(df['FriendsListening'].values, df['Label'].values)\r\n",
        "plt.xlabel('number of friends listening')\r\n",
        "plt.ylabel('Label')\r\n",
        "plt.title('Scatterplot - Dataset_1')\r\n",
        "\r\n",
        "plt.show()\r\n",
        "plt.tight_layout"
      ],
      "execution_count": null,
      "outputs": [
        {
          "output_type": "display_data",
          "data": {
            "image/png": "[encoded data removed]",
            "text/plain": [
              "<Figure size 1008x360 with 2 Axes>"
            ]
          },
          "metadata": {
            "tags": [],
            "needs_background": "light"
          }
        },
        {
          "output_type": "execute_result",
          "data": {
            "text/plain": [
              "<function matplotlib.pyplot.tight_layout>"
            ]
          },
          "metadata": {
            "tags": []
          },
          "execution_count": 27
        }
      ]
    },
    {
      "cell_type": "code",
      "metadata": {
        "colab": {
          "base_uri": "https://localhost:8080/"
        },
        "id": "SbBoBcpM6mJv",
        "outputId": "c843cf59-9dbe-4c14-d519-f73d648c9bf9"
      },
      "source": [
        "# create X\r\n",
        "X2 = np.array(df[['IR','FriendsRating']])\r\n",
        "X2.shape"
      ],
      "execution_count": null,
      "outputs": [
        {
          "output_type": "execute_result",
          "data": {
            "text/plain": [
              "(80137, 2)"
            ]
          },
          "metadata": {
            "tags": []
          },
          "execution_count": 28
        }
      ]
    },
    {
      "cell_type": "code",
      "metadata": {
        "colab": {
          "base_uri": "https://localhost:8080/"
        },
        "id": "s2Vdpx8f60_o",
        "outputId": "11203abb-34cc-4db1-a971-bac1e6c8af3f"
      },
      "source": [
        "# create y\r\n",
        "y = np.array(df['Label'])\r\n",
        "y.shape"
      ],
      "execution_count": null,
      "outputs": [
        {
          "output_type": "execute_result",
          "data": {
            "text/plain": [
              "(80137,)"
            ]
          },
          "metadata": {
            "tags": []
          },
          "execution_count": 29
        }
      ]
    },
    {
      "cell_type": "code",
      "metadata": {
        "id": "WVIsNKcuycza"
      },
      "source": [
        "# for better visualization\r\n",
        "pomocne = np.array(df[['Label','FriendsRating']]).astype(np.float)\r\n",
        "for i in range(len(pomocne)):\r\n",
        "    if pomocne[i,0] == 1:\r\n",
        "       pomocne[i,1] += 0.1"
      ],
      "execution_count": null,
      "outputs": []
    },
    {
      "cell_type": "code",
      "metadata": {
        "colab": {
          "base_uri": "https://localhost:8080/",
          "height": 350
        },
        "id": "Z9jEGleVPN-M",
        "outputId": "a563f4d2-fc88-44e6-a421-da4e16c9fb7f"
      },
      "source": [
        "# visualize them together\r\n",
        "plt.figure(figsize=(7, 5)) \r\n",
        "plt.scatter(X2[:, 0], pomocne[:, 1], c=y, alpha=0.5)\r\n",
        "plt.xlabel('ItemRank score')\r\n",
        "plt.ylabel('Friends Rating')\r\n",
        "plt.title('Scatterplot - Dataset_1')\r\n",
        "plt.show()"
      ],
      "execution_count": null,
      "outputs": [
        {
          "output_type": "display_data",
          "data": {
            "image/png": "[encoded data removed]",
            "text/plain": [
              "<Figure size 504x360 with 1 Axes>"
            ]
          },
          "metadata": {
            "tags": [],
            "needs_background": "light"
          }
        }
      ]
    },
    {
      "cell_type": "code",
      "metadata": {
        "colab": {
          "base_uri": "https://localhost:8080/"
        },
        "id": "_WgKWzWu67Td",
        "outputId": "e22d3742-165f-4abd-c6c7-40398cf8510b"
      },
      "source": [
        "# divide data into training and test split\r\n",
        "X2_train = X2[:65000]\r\n",
        "X2_test = X2[65000:]\r\n",
        "\r\n",
        "y_train = y[:65000]\r\n",
        "y_test = y[65000:]\r\n",
        "\r\n",
        "print(X2_train.shape)\r\n",
        "print(X2_test.shape)\r\n",
        "print(y_train.shape)\r\n",
        "print(y_test.shape)"
      ],
      "execution_count": null,
      "outputs": [
        {
          "output_type": "stream",
          "text": [
            "(65000, 2)\n",
            "(15137, 2)\n",
            "(65000,)\n",
            "(15137,)\n"
          ],
          "name": "stdout"
        }
      ]
    },
    {
      "cell_type": "markdown",
      "metadata": {
        "id": "qE4qWlfE76RC"
      },
      "source": [
        "## Logistic Regression"
      ]
    },
    {
      "cell_type": "markdown",
      "metadata": {
        "id": "tsfqiHbLwo-e"
      },
      "source": [
        "### Model Selection"
      ]
    },
    {
      "cell_type": "code",
      "metadata": {
        "colab": {
          "base_uri": "https://localhost:8080/"
        },
        "id": "LDGtyYxxvkac",
        "outputId": "6a99eb9f-1ad2-4ce6-bb9c-af5061ada70b"
      },
      "source": [
        "C_param_range = [0.001,0.01,0.1,1,10,100]\r\n",
        "\r\n",
        "for c in C_param_range:\r\n",
        "\r\n",
        "    model_LR2 = LogisticRegression(C = c)\r\n",
        "    model_LR2.fit(X2_train, y_train)\r\n",
        "\r\n",
        "    model_LR2_mean_score = np.mean(cross_val_score(model_LR2, X2_train, y_train, cv=5))\r\n",
        "    print('Mean cross validation score '+str(model_LR2_mean_score ))"
      ],
      "execution_count": null,
      "outputs": [
        {
          "output_type": "stream",
          "text": [
            "Mean cross validation score 0.7460307692307693\n",
            "Mean cross validation score 0.7646153846153846\n",
            "Mean cross validation score 0.778676923076923\n",
            "Mean cross validation score 0.781323076923077\n",
            "Mean cross validation score 0.781723076923077\n",
            "Mean cross validation score 0.7817538461538461\n"
          ],
          "name": "stdout"
        }
      ]
    },
    {
      "cell_type": "code",
      "metadata": {
        "colab": {
          "base_uri": "https://localhost:8080/"
        },
        "id": "R8TBH5I_78y2",
        "outputId": "d6b0d202-f42a-41c6-84fc-005051079529"
      },
      "source": [
        "model_LR2 = LogisticRegression()\r\n",
        "# Fit model\r\n",
        "model_LR2.fit(X2_train, y_train)\r\n",
        "print(\"Traning accuracy for Linear Regression: {}\".format(model_LR2.score(X2_train, y_train)))"
      ],
      "execution_count": null,
      "outputs": [
        {
          "output_type": "stream",
          "text": [
            "Traning accuracy for Linear Regression: 0.7838307692307692\n"
          ],
          "name": "stdout"
        }
      ]
    },
    {
      "cell_type": "markdown",
      "metadata": {
        "id": "HhAKpFHFwstK"
      },
      "source": [
        "### Evaluation"
      ]
    },
    {
      "cell_type": "code",
      "metadata": {
        "colab": {
          "base_uri": "https://localhost:8080/",
          "height": 315
        },
        "id": "mcBAaCj48eNI",
        "outputId": "3b9b7b64-cd81-442b-ff1a-d3a026022cc2"
      },
      "source": [
        "# TEST DATA\r\n",
        "# score\r\n",
        "print('Test accuracy '+str(model_LR2.score(X2_test, y_test) ))\r\n",
        "# confusion matrix\r\n",
        "cm = confusion_matrix(y_test, model_LR2.predict(X2_test))\r\n",
        "fig, ax = plt.subplots(figsize=(4, 4))\r\n",
        "ax.imshow(cm)\r\n",
        "ax.grid(False)\r\n",
        "ax.xaxis.set(ticks=(0, 1), ticklabels=('Predicted 0s', 'Predicted 1s'))\r\n",
        "ax.yaxis.set(ticks=(0, 1), ticklabels=('Actual 0s', 'Actual 1s'))\r\n",
        "ax.set_ylim(1.5, -0.5)\r\n",
        "for i in range(2):\r\n",
        "    for j in range(2):\r\n",
        "        ax.text(j, i, cm[i, j], ha='center', va='center')\r\n",
        "plt.show()\r\n",
        "\r\n",
        "# Specificity and sensitivity\r\n",
        "tn, fp, fn, tp = confusion_matrix(y_test, model_LR2.predict(X2_test)).ravel()\r\n",
        "specificity = tn / (tn+fp)\r\n",
        "sensitivity = tp / (tp+fn)\r\n",
        "print('Sensitivity = '+str(sensitivity))\r\n",
        "print('Specificity = '+str(specificity))"
      ],
      "execution_count": null,
      "outputs": [
        {
          "output_type": "stream",
          "text": [
            "Test accuracy 0.7860210081257845\n"
          ],
          "name": "stdout"
        },
        {
          "output_type": "display_data",
          "data": {
            "image/png": "[encoded data removed]",
            "text/plain": [
              "<Figure size 288x288 with 1 Axes>"
            ]
          },
          "metadata": {
            "tags": [],
            "needs_background": "light"
          }
        },
        {
          "output_type": "stream",
          "text": [
            "Sensitivity = 0.5499915697184286\n",
            "Specificity = 0.9380838583532479\n"
          ],
          "name": "stdout"
        }
      ]
    },
    {
      "cell_type": "code",
      "metadata": {
        "id": "2dQ9SInP-VZE",
        "colab": {
          "base_uri": "https://localhost:8080/"
        },
        "outputId": "2db1cad6-9786-4a26-b576-684976ad92d8"
      },
      "source": [
        "# generate a no skill prediction (majority class)\r\n",
        "ns_probs = [0 for _ in range(len(y_test))]\r\n",
        "# predict probabilities\r\n",
        "LR2_probs = model_LR2.predict_proba(X2_test)\r\n",
        "# keep probabilities for the positive outcome only\r\n",
        "LR2_probs = LR2_probs[:, 1]\r\n",
        "# calculate scores\r\n",
        "ns_auc = roc_auc_score(y_test, ns_probs)\r\n",
        "LR2_auc = roc_auc_score(y_test, LR2_probs)\r\n",
        "# summarize scores\r\n",
        "print('Logistic Regression: ROC AUC = %.3f' % (LR2_auc))"
      ],
      "execution_count": null,
      "outputs": [
        {
          "output_type": "stream",
          "text": [
            "Logistic Regression: ROC AUC = 0.857\n"
          ],
          "name": "stdout"
        }
      ]
    },
    {
      "cell_type": "markdown",
      "metadata": {
        "id": "IJWWMCukI1Es"
      },
      "source": [
        "## SVC"
      ]
    },
    {
      "cell_type": "markdown",
      "metadata": {
        "id": "Nwm7YP9OI3s-"
      },
      "source": [
        "### Model Selection"
      ]
    },
    {
      "cell_type": "code",
      "metadata": {
        "id": "2wHJ7htsI3Je",
        "colab": {
          "base_uri": "https://localhost:8080/"
        },
        "outputId": "e0f268c8-cc82-41ff-9a73-f4eb4e355a10"
      },
      "source": [
        "C_input = [0.1,1,10,100]\r\n",
        "G_input = [0.01,0.1,'auto',10]\r\n",
        "kernel_input = ['rbf', 'linear']\r\n",
        "for i in range(len(C_input)):\r\n",
        "    for j in range(len(G_input)):\r\n",
        "        for k in range(len(kernel_input)):\r\n",
        "            svc2 = svm.SVC(C=C_input[i], kernel=kernel_input[k], gamma=G_input[j])\r\n",
        "            score = np.mean(cross_val_score(svc2, X2_train, y_train, cv=5))\r\n",
        "            print('C:'+ str(C_input[i]) + ', gamma:'+ str(G_input[j]) +', kernel:'+ str(kernel_input[k]) +', score:'+str(score))"
      ],
      "execution_count": null,
      "outputs": [
        {
          "output_type": "stream",
          "text": [
            "C:0.1, gamma:0.01, kernel:rbf, score:0.7503076923076923\n",
            "C:0.1, gamma:0.01, kernel:linear, score:0.7841230769230769\n",
            "C:0.1, gamma:0.1, kernel:rbf, score:0.7743384615384615\n",
            "C:0.1, gamma:0.1, kernel:linear, score:0.7841230769230769\n",
            "C:0.1, gamma:auto, kernel:rbf, score:0.7854615384615384\n",
            "C:0.1, gamma:auto, kernel:linear, score:0.7841230769230769\n",
            "C:0.1, gamma:10, kernel:rbf, score:0.7907230769230769\n",
            "C:0.1, gamma:10, kernel:linear, score:0.7841230769230769\n",
            "C:1, gamma:0.01, kernel:rbf, score:0.7740923076923077\n",
            "C:1, gamma:0.01, kernel:linear, score:0.7857384615384615\n",
            "C:1, gamma:0.1, kernel:rbf, score:0.7851384615384616\n",
            "C:1, gamma:0.1, kernel:linear, score:0.7857384615384615\n",
            "C:1, gamma:auto, kernel:rbf, score:0.7910615384615385\n",
            "C:1, gamma:auto, kernel:linear, score:0.7857384615384615\n",
            "C:1, gamma:10, kernel:rbf, score:0.7943230769230769\n",
            "C:1, gamma:10, kernel:linear, score:0.7857384615384615\n",
            "C:10, gamma:0.01, kernel:rbf, score:0.7834153846153846\n",
            "C:10, gamma:0.01, kernel:linear, score:0.7859076923076922\n",
            "C:10, gamma:0.1, kernel:rbf, score:0.7888923076923078\n",
            "C:10, gamma:0.1, kernel:linear, score:0.7859076923076922\n",
            "C:10, gamma:auto, kernel:rbf, score:0.7943538461538461\n",
            "C:10, gamma:auto, kernel:linear, score:0.7859076923076922\n",
            "C:10, gamma:10, kernel:rbf, score:0.7966307692307693\n",
            "C:10, gamma:10, kernel:linear, score:0.7859076923076922\n",
            "C:100, gamma:0.01, kernel:rbf, score:0.7854461538461537\n",
            "C:100, gamma:0.01, kernel:linear, score:0.7859538461538461\n",
            "C:100, gamma:0.1, kernel:rbf, score:0.7915692307692307\n",
            "C:100, gamma:0.1, kernel:linear, score:0.7859538461538461\n",
            "C:100, gamma:auto, kernel:rbf, score:0.7957846153846153\n",
            "C:100, gamma:auto, kernel:linear, score:0.7859538461538461\n",
            "C:100, gamma:10, kernel:rbf, score:0.7977692307692308\n",
            "C:100, gamma:10, kernel:linear, score:0.7859538461538461\n"
          ],
          "name": "stdout"
        }
      ]
    },
    {
      "cell_type": "code",
      "metadata": {
        "id": "ZZdWJqkCJQ9k",
        "colab": {
          "base_uri": "https://localhost:8080/"
        },
        "outputId": "2a000d2e-abe0-4de5-c085-c5ebc0cffc13"
      },
      "source": [
        "C_input = [5,15]\r\n",
        "G_input = [5,15]\r\n",
        "kernel_input = 'rbf'\r\n",
        "for i in range(len(C_input)):\r\n",
        "    for j in range(len(G_input)):\r\n",
        "            svc2 = svm.SVC(C=C_input[i], kernel=kernel_input, gamma=G_input[j])\r\n",
        "            score = np.mean(cross_val_score(svc2, X2_train, y_train, cv=5))\r\n",
        "            print('C:'+ str(C_input[i]) + ', gamma:'+ str(G_input[j]) +', score:'+str(score))"
      ],
      "execution_count": null,
      "outputs": [
        {
          "output_type": "stream",
          "text": [
            "C:5, gamma:5, score:0.7924923076923076\n",
            "C:5, gamma:15, score:0.7974923076923076\n",
            "C:15, gamma:5, score:0.7939692307692308\n",
            "C:15, gamma:15, score:0.7977076923076922\n"
          ],
          "name": "stdout"
        }
      ]
    },
    {
      "cell_type": "code",
      "metadata": {
        "id": "OK0uq2TYJRAi",
        "colab": {
          "base_uri": "https://localhost:8080/"
        },
        "outputId": "9148ac53-bc0d-43c3-d6ca-d57cb9654880"
      },
      "source": [
        "svc2 = svm.SVC(C=5, gamma = 15, kernel='rbf', probability=True)\r\n",
        "# fit model\r\n",
        "svc2.fit(X2_train, y_train)\r\n",
        "print(\"Traning accuracy for SVC: {}\".format(svc2.score(X2_train, y_train)))"
      ],
      "execution_count": null,
      "outputs": [
        {
          "output_type": "stream",
          "text": [
            "Traning accuracy for SVM: 0.7976461538461539\n"
          ],
          "name": "stdout"
        }
      ]
    },
    {
      "cell_type": "markdown",
      "metadata": {
        "id": "wIjul12rJWui"
      },
      "source": [
        "### Evaluation"
      ]
    },
    {
      "cell_type": "code",
      "metadata": {
        "id": "VoXFscblJRDB",
        "colab": {
          "base_uri": "https://localhost:8080/",
          "height": 316
        },
        "outputId": "8a081810-883d-4862-82c7-3c635a62ed80"
      },
      "source": [
        "# TEST DATA\r\n",
        "# score\r\n",
        "print('Testing accuracy for SVC: '+str(svc2.score(X2_test, y_test) ))\r\n",
        "# confusion matrix\r\n",
        "cm = confusion_matrix(y_test, svc2.predict(X2_test))\r\n",
        "fig, ax = plt.subplots(figsize=(4, 4))\r\n",
        "ax.imshow(cm)\r\n",
        "ax.grid(False)\r\n",
        "ax.xaxis.set(ticks=(0, 1), ticklabels=('Predicted 0s', 'Predicted 1s'))\r\n",
        "ax.yaxis.set(ticks=(0, 1), ticklabels=('Actual 0s', 'Actual 1s'))\r\n",
        "ax.set_ylim(1.5, -0.5)\r\n",
        "for i in range(2):\r\n",
        "    for j in range(2):\r\n",
        "        ax.text(j, i, cm[i, j], ha='center', va='center')\r\n",
        "plt.show()\r\n",
        "\r\n",
        "# Specificity and sensitivity\r\n",
        "tn, fp, fn, tp = confusion_matrix(y_test, svc2.predict(X2_test)).ravel()\r\n",
        "specificity = tn / (tn+fp)\r\n",
        "sensitivity = tp / (tp+fn)\r\n",
        "print('Sensitivity = '+str(sensitivity))\r\n",
        "print('Specificity = '+str(specificity))"
      ],
      "execution_count": null,
      "outputs": [
        {
          "output_type": "stream",
          "text": [
            "Testing accuracy for SVC: 0.7969875140384488\n"
          ],
          "name": "stdout"
        },
        {
          "output_type": "display_data",
          "data": {
            "image/png": "[encoded data removed]",
            "text/plain": [
              "<Figure size 288x288 with 1 Axes>"
            ]
          },
          "metadata": {
            "tags": [],
            "needs_background": "light"
          }
        },
        {
          "output_type": "stream",
          "text": [
            "Sensitivity = 0.6595852301466869\n",
            "Specificity = 0.8855094503584618\n"
          ],
          "name": "stdout"
        }
      ]
    },
    {
      "cell_type": "code",
      "metadata": {
        "id": "VnID22cYJgAc",
        "colab": {
          "base_uri": "https://localhost:8080/"
        },
        "outputId": "40c17ea2-d042-40b8-87b9-6deb067c209f"
      },
      "source": [
        "# generate a no skill prediction (majority class)\r\n",
        "ns_probs = [0 for _ in range(len(y_test))]\r\n",
        "# predict probabilities\r\n",
        "svc2_probs = svc2.predict_proba(X2_test)\r\n",
        "# keep probabilities for the positive outcome only\r\n",
        "svc2_probs = svc2_probs[:, 1]\r\n",
        "# calculate scores\r\n",
        "ns_auc = roc_auc_score(y_test, ns_probs)\r\n",
        "svc2_auc = roc_auc_score(y_test, svc2_probs)\r\n",
        "# summarize scores\r\n",
        "print('SVC: ROC AUC = %.3f' % (svc2_auc))"
      ],
      "execution_count": null,
      "outputs": [
        {
          "output_type": "stream",
          "text": [
            "SVC: ROC AUC = 0.829\n"
          ],
          "name": "stdout"
        }
      ]
    },
    {
      "cell_type": "markdown",
      "metadata": {
        "id": "FjElAYi4z-tz"
      },
      "source": [
        "## Random Forest"
      ]
    },
    {
      "cell_type": "markdown",
      "metadata": {
        "id": "XWDLL3Az7dyg"
      },
      "source": [
        "### Model Selection"
      ]
    },
    {
      "cell_type": "code",
      "metadata": {
        "colab": {
          "base_uri": "https://localhost:8080/"
        },
        "id": "yzETgBFPwt4z",
        "outputId": "1210b9ab-60d2-42b0-dbd5-9acc2a58f426"
      },
      "source": [
        "N_input = [3,10,50,100]\r\n",
        "D_input = [1,3,5,10,20,30,40,100]\r\n",
        "for i in range(len(N_input)):\r\n",
        "    for j in range(len(D_input)):\r\n",
        "        rfc = RandomForestClassifier(n_estimators=N_input[i], max_depth=D_input[j])\r\n",
        "        score = np.mean(cross_val_score(rfc, X2_train, y_train, cv=5))\r\n",
        "        print('# estimators:'+ str(N_input[i]) + ', depth:'+ str(D_input[j]) +', score:'+str(score))"
      ],
      "execution_count": null,
      "outputs": [
        {
          "output_type": "stream",
          "text": [
            "# estimators:3, depth:1, score:0.7628615384615385\n",
            "# estimators:3, depth:3, score:0.794\n",
            "# estimators:3, depth:5, score:0.7980307692307692\n",
            "# estimators:3, depth:10, score:0.7930307692307692\n",
            "# estimators:3, depth:20, score:0.7699692307692307\n",
            "# estimators:3, depth:30, score:0.7444769230769231\n",
            "# estimators:3, depth:40, score:0.7316461538461538\n",
            "# estimators:3, depth:100, score:0.7192307692307692\n",
            "# estimators:10, depth:1, score:0.7621692307692308\n",
            "# estimators:10, depth:3, score:0.7951692307692307\n",
            "# estimators:10, depth:5, score:0.7983076923076922\n",
            "# estimators:10, depth:10, score:0.7966923076923077\n",
            "# estimators:10, depth:20, score:0.7770923076923077\n",
            "# estimators:10, depth:30, score:0.7457384615384615\n",
            "# estimators:10, depth:40, score:0.7271692307692308\n",
            "# estimators:10, depth:100, score:0.7232\n",
            "# estimators:50, depth:1, score:0.7730615384615385\n",
            "# estimators:50, depth:3, score:0.7961692307692309\n",
            "# estimators:50, depth:5, score:0.7981538461538462\n",
            "# estimators:50, depth:10, score:0.7975230769230769\n",
            "# estimators:50, depth:20, score:0.7803846153846155\n",
            "# estimators:50, depth:30, score:0.7473076923076925\n",
            "# estimators:50, depth:40, score:0.7253538461538461\n",
            "# estimators:50, depth:100, score:0.7165999999999999\n",
            "# estimators:100, depth:1, score:0.7766\n",
            "# estimators:100, depth:3, score:0.7963692307692307\n",
            "# estimators:100, depth:5, score:0.7983384615384616\n",
            "# estimators:100, depth:10, score:0.7976923076923076\n",
            "# estimators:100, depth:20, score:0.7804923076923076\n",
            "# estimators:100, depth:30, score:0.7459230769230769\n",
            "# estimators:100, depth:40, score:0.7239230769230769\n",
            "# estimators:100, depth:100, score:0.7161076923076923\n"
          ],
          "name": "stdout"
        }
      ]
    },
    {
      "cell_type": "code",
      "metadata": {
        "colab": {
          "base_uri": "https://localhost:8080/"
        },
        "id": "OFc2Wjlg88TL",
        "outputId": "b10d8748-37d9-4979-e93c-9badba8e8e65"
      },
      "source": [
        "N_input = [10,100,200,500]\r\n",
        "D_input = [5]\r\n",
        "for i in range(len(N_input)):\r\n",
        "    for j in range(len(D_input)):\r\n",
        "        rfc = RandomForestClassifier(n_estimators=N_input[i], max_depth=D_input[j])\r\n",
        "        score = np.mean(cross_val_score(rfc, X2_train, y_train, cv=5))\r\n",
        "        print('# estimators:'+ str(N_input[i]) + ', depth:'+ str(D_input[j]) +', score:'+str(score))"
      ],
      "execution_count": null,
      "outputs": [
        {
          "output_type": "stream",
          "text": [
            "# estimators:10, depth:5, score:0.7983538461538461\n",
            "# estimators:100, depth:5, score:0.7986923076923077\n",
            "# estimators:200, depth:5, score:0.7985692307692307\n",
            "# estimators:500, depth:5, score:0.7984769230769231\n"
          ],
          "name": "stdout"
        }
      ]
    },
    {
      "cell_type": "code",
      "metadata": {
        "colab": {
          "base_uri": "https://localhost:8080/"
        },
        "id": "ZSjUlgbY7QlT",
        "outputId": "6314dbef-95b1-4a7a-f860-39ef37908ac8"
      },
      "source": [
        "rfc2 = RandomForestClassifier(n_estimators=100, max_depth=5)\r\n",
        "rfc2.fit(X2_train, y_train)\r\n",
        "\r\n",
        "print(\"Traning accuracy for Random Forest: {}\".format(rfc2.score(X2_train, y_train)))"
      ],
      "execution_count": null,
      "outputs": [
        {
          "output_type": "stream",
          "text": [
            "Traning accuracy for Random Forest: 0.8001538461538461\n"
          ],
          "name": "stdout"
        }
      ]
    },
    {
      "cell_type": "markdown",
      "metadata": {
        "id": "pVypA_FA73c8"
      },
      "source": [
        "### Evaluation"
      ]
    },
    {
      "cell_type": "code",
      "metadata": {
        "colab": {
          "base_uri": "https://localhost:8080/",
          "height": 316
        },
        "id": "diwtNMLe748d",
        "outputId": "242369c6-8779-440c-df56-b9e4d476c9be"
      },
      "source": [
        "# TEST DATA\r\n",
        "# score\r\n",
        "print('Testing accuracy for RFC: '+str(rfc2.score(X2_test, y_test) ))\r\n",
        "# confusion matrix\r\n",
        "cm = confusion_matrix(y_test, rfc2.predict(X2_test))\r\n",
        "fig, ax = plt.subplots(figsize=(4, 4))\r\n",
        "ax.imshow(cm)\r\n",
        "ax.grid(False)\r\n",
        "ax.xaxis.set(ticks=(0, 1), ticklabels=('Predicted 0s', 'Predicted 1s'))\r\n",
        "ax.yaxis.set(ticks=(0, 1), ticklabels=('Actual 0s', 'Actual 1s'))\r\n",
        "ax.set_ylim(1.5, -0.5)\r\n",
        "for i in range(2):\r\n",
        "    for j in range(2):\r\n",
        "        ax.text(j, i, cm[i, j], ha='center', va='center')\r\n",
        "plt.show()\r\n",
        "\r\n",
        "# Specificity and sensitivity\r\n",
        "tn, fp, fn, tp = confusion_matrix(y_test, rfc2.predict(X2_test)).ravel()\r\n",
        "specificity = tn / (tn+fp)\r\n",
        "sensitivity = tp / (tp+fn)\r\n",
        "print('Sensitivity = '+str(sensitivity))\r\n",
        "print('Specificity = '+str(specificity))"
      ],
      "execution_count": null,
      "outputs": [
        {
          "output_type": "stream",
          "text": [
            "Testing accuracy for RFC: 0.7992997291405166\n"
          ],
          "name": "stdout"
        },
        {
          "output_type": "display_data",
          "data": {
            "image/png": "[encoded data removed]",
            "text/plain": [
              "<Figure size 288x288 with 1 Axes>"
            ]
          },
          "metadata": {
            "tags": [],
            "needs_background": "light"
          }
        },
        {
          "output_type": "stream",
          "text": [
            "Sensitivity = 0.6605968639352554\n",
            "Specificity = 0.8886595698457528\n"
          ],
          "name": "stdout"
        }
      ]
    },
    {
      "cell_type": "code",
      "metadata": {
        "colab": {
          "base_uri": "https://localhost:8080/"
        },
        "id": "v4hb-nzc8Hrv",
        "outputId": "063314e2-5172-4235-9269-e3d1b5fe6b1c"
      },
      "source": [
        "# generate a no skill prediction (majority class)\r\n",
        "ns_probs = [0 for _ in range(len(y_test))]\r\n",
        "# predict probabilities\r\n",
        "rfc2_probs = rfc2.predict_proba(X2_test)\r\n",
        "# keep probabilities for the positive outcome only\r\n",
        "rfc2_probs = rfc2_probs[:, 1]\r\n",
        "# calculate scores\r\n",
        "ns_auc = roc_auc_score(y_test, ns_probs)\r\n",
        "rfc2_auc = roc_auc_score(y_test, rfc2_probs)\r\n",
        "# summarize scores\r\n",
        "print('RFC: ROC AUC = %.3f' % (rfc2_auc))"
      ],
      "execution_count": null,
      "outputs": [
        {
          "output_type": "stream",
          "text": [
            "RFC: ROC AUC = 0.857\n"
          ],
          "name": "stdout"
        }
      ]
    },
    {
      "cell_type": "markdown",
      "metadata": {
        "id": "g7JEAXRlzQTM"
      },
      "source": [
        "## Comparison"
      ]
    },
    {
      "cell_type": "code",
      "metadata": {
        "colab": {
          "base_uri": "https://localhost:8080/",
          "height": 279
        },
        "id": "adCg5mjZ8SOL",
        "outputId": "4fabc9fa-8443-4c9c-81cb-1579693525fe"
      },
      "source": [
        "# calculate roc curves\r\n",
        "ns_fpr, ns_tpr, _ = roc_curve(y_test, ns_probs)\r\n",
        "LR2_fpr, LR2_tpr, _ = roc_curve(y_test, LR2_probs)\r\n",
        "rfc2_fpr, rfc2_tpr, _ = roc_curve(y_test, rfc2_probs)\r\n",
        "svc2_fpr, svc2_tpr, _ = roc_curve(y_test, svc2_probs)\r\n",
        "# plot the roc curve for the model\r\n",
        "plt.plot(ns_fpr, ns_tpr, linestyle='--')\r\n",
        "plt.plot(LR2_fpr, LR2_tpr, marker='.', label='Logistic Regression')\r\n",
        "plt.plot(svc2_fpr, svc2_tpr, marker='.', label='SVC')\r\n",
        "plt.plot(rfc2_fpr, rfc2_tpr, marker='.', label='RFC')\r\n",
        "plt.xlabel('False Positive Rate')\r\n",
        "plt.ylabel('True Positive Rate')\r\n",
        "plt.legend()\r\n",
        "plt.show()"
      ],
      "execution_count": null,
      "outputs": [
        {
          "output_type": "display_data",
          "data": {
            "image/png": "[encoded data removed]",
            "text/plain": [
              "<Figure size 432x288 with 1 Axes>"
            ]
          },
          "metadata": {
            "tags": [],
            "needs_background": "light"
          }
        }
      ]
    },
    {
      "cell_type": "markdown",
      "metadata": {
        "id": "QvXorzoLVGhB"
      },
      "source": [
        "# Approach 3 ( dataset_2 + user friends feature)"
      ]
    },
    {
      "cell_type": "code",
      "metadata": {
        "colab": {
          "base_uri": "https://localhost:8080/"
        },
        "id": "CRdSZ471Wgfg",
        "outputId": "c2b738b0-8ee9-475c-a606-92be7da76717"
      },
      "source": [
        "print(len(df2.loc[df2['Label'] == 1]))\r\n",
        "print(len(df2.loc[df2['Label'] == 0]))"
      ],
      "execution_count": null,
      "outputs": [
        {
          "output_type": "stream",
          "text": [
            "35768\n",
            "35662\n"
          ],
          "name": "stdout"
        }
      ]
    },
    {
      "cell_type": "code",
      "metadata": {
        "colab": {
          "base_uri": "https://localhost:8080/",
          "height": 367
        },
        "id": "D7spQE6WXdHS",
        "outputId": "12938876-749f-4181-e4e5-7c180dda8081"
      },
      "source": [
        "#visualize data \r\n",
        "plt.figure(figsize=(14, 5)) \r\n",
        "\r\n",
        "plt.subplot(1,2,1)\r\n",
        "bins = np.linspace(0, 1, 15)\r\n",
        "plt.hist(df2['IR'].loc[df2['Label'] == 1].values,bins, alpha=0.5, label='1')\r\n",
        "plt.hist(df2['IR'].loc[df2['Label'] == 0].values,bins, alpha=0.5, label='0')\r\n",
        "plt.ylabel('Number of pairs')\r\n",
        "plt.xlabel('ItemRank score')\r\n",
        "plt.legend(loc='upper right')\r\n",
        "plt.title('Histogram - Dataset_2')\r\n",
        "\r\n",
        "plt.subplot(1,2,2)\r\n",
        "plt.scatter(df2['IR'].values, df2['Label'].values)\r\n",
        "plt.xlabel('ItemRank score')\r\n",
        "plt.ylabel('Label')\r\n",
        "plt.title('Scatterplot - Dataset_2')\r\n",
        "\r\n",
        "plt.show()\r\n",
        "plt.tight_layout"
      ],
      "execution_count": null,
      "outputs": [
        {
          "output_type": "display_data",
          "data": {
            "image/png": "[encoded data removed]",
            "text/plain": [
              "<Figure size 1008x360 with 2 Axes>"
            ]
          },
          "metadata": {
            "tags": [],
            "needs_background": "light"
          }
        },
        {
          "output_type": "execute_result",
          "data": {
            "text/plain": [
              "<function matplotlib.pyplot.tight_layout>"
            ]
          },
          "metadata": {
            "tags": []
          },
          "execution_count": 51
        }
      ]
    },
    {
      "cell_type": "code",
      "metadata": {
        "colab": {
          "base_uri": "https://localhost:8080/",
          "height": 367
        },
        "id": "BmJXV4S_eF5Q",
        "outputId": "eee916bb-a3c7-4178-9282-0cdde3717232"
      },
      "source": [
        "# visualize data for listening counts\r\n",
        "plt.figure(figsize=(14, 5)) \r\n",
        "\r\n",
        "plt.subplot(1,2,1)\r\n",
        "bins = [0,1,2,3,4,5,7,10,14,20]\r\n",
        "plt.hist(df2['FriendsListening'].loc[df2['Label'] == 1].values,bins, alpha=0.5, label='1')\r\n",
        "plt.hist(df2['FriendsListening'].loc[df2['Label'] == 0].values,bins, alpha=0.5, label='0')\r\n",
        "plt.ylabel('Number of pairs')\r\n",
        "plt.xlabel('number of friends listening')\r\n",
        "plt.legend(loc='upper right')\r\n",
        "plt.title('Histogram - Dataset_2')\r\n",
        "\r\n",
        "plt.subplot(1,2,2)\r\n",
        "plt.scatter(df2['FriendsListening'].values, df2['Label'].values)\r\n",
        "plt.xlabel('number of friends listening')\r\n",
        "plt.ylabel('Label')\r\n",
        "plt.title('Scatterplot - Dataset_2')\r\n",
        "\r\n",
        "\r\n",
        "plt.show()\r\n",
        "plt.tight_layout"
      ],
      "execution_count": null,
      "outputs": [
        {
          "output_type": "display_data",
          "data": {
            "image/png": "[encoded data removed]",
            "text/plain": [
              "<Figure size 1008x360 with 2 Axes>"
            ]
          },
          "metadata": {
            "tags": [],
            "needs_background": "light"
          }
        },
        {
          "output_type": "execute_result",
          "data": {
            "text/plain": [
              "<function matplotlib.pyplot.tight_layout>"
            ]
          },
          "metadata": {
            "tags": []
          },
          "execution_count": 52
        }
      ]
    },
    {
      "cell_type": "code",
      "metadata": {
        "colab": {
          "base_uri": "https://localhost:8080/"
        },
        "id": "WXRlb1L7eVlb",
        "outputId": "54a3ff04-9674-4929-87b9-1fef13d35bac"
      },
      "source": [
        "# create X\r\n",
        "X3 = np.array(df2[['IR','FriendsRating']])\r\n",
        "X3.shape"
      ],
      "execution_count": null,
      "outputs": [
        {
          "output_type": "execute_result",
          "data": {
            "text/plain": [
              "(71430, 2)"
            ]
          },
          "metadata": {
            "tags": []
          },
          "execution_count": 53
        }
      ]
    },
    {
      "cell_type": "code",
      "metadata": {
        "colab": {
          "base_uri": "https://localhost:8080/"
        },
        "id": "qaCFPT_keZru",
        "outputId": "4d974796-0ed1-42f0-f4d9-8c40460d0435"
      },
      "source": [
        "# create y\r\n",
        "y3 = np.array(df2['Label'])\r\n",
        "y3.shape"
      ],
      "execution_count": null,
      "outputs": [
        {
          "output_type": "execute_result",
          "data": {
            "text/plain": [
              "(71430,)"
            ]
          },
          "metadata": {
            "tags": []
          },
          "execution_count": 54
        }
      ]
    },
    {
      "cell_type": "code",
      "metadata": {
        "id": "5X-ffX9oSI94"
      },
      "source": [
        "# for better visualization\r\n",
        "pomocne2 = np.array(df2[['Label','FriendsRating']]).astype(np.float)\r\n",
        "for i in range(len(pomocne2)):\r\n",
        "    if pomocne2[i,0] == 1:\r\n",
        "       pomocne2[i,1] += 0.1"
      ],
      "execution_count": null,
      "outputs": []
    },
    {
      "cell_type": "code",
      "metadata": {
        "colab": {
          "base_uri": "https://localhost:8080/",
          "height": 350
        },
        "id": "DosmIV4dSfvs",
        "outputId": "61f14ef5-22a3-4c30-d683-e04d43653e01"
      },
      "source": [
        "# visualize them together\r\n",
        "plt.figure(figsize=(7, 5)) \r\n",
        "plt.scatter(X3[:, 0], pomocne2[:, 1], c=y3, alpha=0.5)\r\n",
        "plt.xlabel('ItemRank score')\r\n",
        "plt.ylabel('Friends Rating')\r\n",
        "plt.title('Scatterplot - Dataset_2')\r\n",
        "plt.show()"
      ],
      "execution_count": null,
      "outputs": [
        {
          "output_type": "display_data",
          "data": {
            "image/png": "[encoded data removed]",
            "text/plain": [
              "<Figure size 504x360 with 1 Axes>"
            ]
          },
          "metadata": {
            "tags": [],
            "needs_background": "light"
          }
        }
      ]
    },
    {
      "cell_type": "code",
      "metadata": {
        "colab": {
          "base_uri": "https://localhost:8080/"
        },
        "id": "_liF0kxFendk",
        "outputId": "ec4e6637-5230-4c70-a92f-ace48239e83e"
      },
      "source": [
        "# divide data into training and test split\r\n",
        "X3_train = X3[:55000]\r\n",
        "X3_test = X3[55000:]\r\n",
        "\r\n",
        "y3_train = y3[:55000]\r\n",
        "y3_test = y3[55000:]\r\n",
        "\r\n",
        "print(X3_train.shape)\r\n",
        "print(X3_test.shape)\r\n",
        "print(y3_train.shape)\r\n",
        "print(y3_test.shape)"
      ],
      "execution_count": null,
      "outputs": [
        {
          "output_type": "stream",
          "text": [
            "(55000, 2)\n",
            "(16430, 2)\n",
            "(55000,)\n",
            "(16430,)\n"
          ],
          "name": "stdout"
        }
      ]
    },
    {
      "cell_type": "markdown",
      "metadata": {
        "id": "08GoaBSVS7XF"
      },
      "source": [
        "## Logistic Regression"
      ]
    },
    {
      "cell_type": "markdown",
      "metadata": {
        "id": "gUajsrB0Tn4W"
      },
      "source": [
        "### Model Selection"
      ]
    },
    {
      "cell_type": "code",
      "metadata": {
        "colab": {
          "base_uri": "https://localhost:8080/"
        },
        "id": "83fOLMHdTuvE",
        "outputId": "f6acba6a-8550-4381-e98e-1a2144b457d8"
      },
      "source": [
        "C_param_range = [0.001,0.01,0.1,1,5,10,100,500]\r\n",
        "\r\n",
        "for c in C_param_range:\r\n",
        "\r\n",
        "    model_LR3 = LogisticRegression(C = c)\r\n",
        "    model_LR3.fit(X3_train, y3_train)\r\n",
        "\r\n",
        "    model_LR3_mean_score = np.mean(cross_val_score(model_LR3, X3_train, y3_train, cv=5))\r\n",
        "    print('Mean cross validation score '+str(model_LR3_mean_score ))"
      ],
      "execution_count": null,
      "outputs": [
        {
          "output_type": "stream",
          "text": [
            "Mean cross validation score 0.6974545454545454\n",
            "Mean cross validation score 0.7427999999999999\n",
            "Mean cross validation score 0.7788\n",
            "Mean cross validation score 0.7911818181818182\n",
            "Mean cross validation score 0.7930363636363637\n",
            "Mean cross validation score 0.7933636363636364\n",
            "Mean cross validation score 0.7935818181818182\n",
            "Mean cross validation score 0.7935636363636365\n"
          ],
          "name": "stdout"
        }
      ]
    },
    {
      "cell_type": "code",
      "metadata": {
        "colab": {
          "base_uri": "https://localhost:8080/"
        },
        "id": "E6DdipYNS5iE",
        "outputId": "ddddb5c5-6676-41a4-9051-2b9855734bb7"
      },
      "source": [
        "model_LR3 = LogisticRegression()\r\n",
        "# Fit model\r\n",
        "model_LR3.fit(X3_train, y3_train)\r\n",
        "print(\"Traning accuracy for Linear Regression: {}\".format(model_LR3.score(X3_train, y3_train)))"
      ],
      "execution_count": null,
      "outputs": [
        {
          "output_type": "stream",
          "text": [
            "Traning accuracy for Linear Regression: 0.7915090909090909\n"
          ],
          "name": "stdout"
        }
      ]
    },
    {
      "cell_type": "markdown",
      "metadata": {
        "id": "48w3frmJTq1F"
      },
      "source": [
        "### Evaluation"
      ]
    },
    {
      "cell_type": "code",
      "metadata": {
        "colab": {
          "base_uri": "https://localhost:8080/",
          "height": 315
        },
        "id": "2orDX6w8TGcr",
        "outputId": "c986ac2b-5d95-48e7-f727-ae2a59573800"
      },
      "source": [
        "# TEST DATA\r\n",
        "# score\r\n",
        "print('Testing accuracy '+str(model_LR3.score(X3_test, y3_test) ))\r\n",
        "# confusion matrix\r\n",
        "cm = confusion_matrix(y3_test, model_LR3.predict(X3_test))\r\n",
        "fig, ax = plt.subplots(figsize=(4, 4))\r\n",
        "ax.imshow(cm)\r\n",
        "ax.grid(False)\r\n",
        "ax.xaxis.set(ticks=(0, 1), ticklabels=('Predicted 0s', 'Predicted 1s'))\r\n",
        "ax.yaxis.set(ticks=(0, 1), ticklabels=('Actual 0s', 'Actual 1s'))\r\n",
        "ax.set_ylim(1.5, -0.5)\r\n",
        "for i in range(2):\r\n",
        "    for j in range(2):\r\n",
        "        ax.text(j, i, cm[i, j], ha='center', va='center')\r\n",
        "plt.show()\r\n",
        "\r\n",
        "# Specificity and sensitivity\r\n",
        "tn, fp, fn, tp = confusion_matrix(y3_test, model_LR3.predict(X3_test)).ravel()\r\n",
        "specificity = tn / (tn+fp)\r\n",
        "sensitivity = tp / (tp+fn)\r\n",
        "print('Sensitivity = '+str(sensitivity))\r\n",
        "print('Specificity = '+str(specificity))"
      ],
      "execution_count": null,
      "outputs": [
        {
          "output_type": "stream",
          "text": [
            "Testing accuracy 0.7867315885575168\n"
          ],
          "name": "stdout"
        },
        {
          "output_type": "display_data",
          "data": {
            "image/png": "[encoded data removed]",
            "text/plain": [
              "<Figure size 288x288 with 1 Axes>"
            ]
          },
          "metadata": {
            "tags": [],
            "needs_background": "light"
          }
        },
        {
          "output_type": "stream",
          "text": [
            "Sensitivity = 0.6550060313630881\n",
            "Specificity = 0.9208845208845209\n"
          ],
          "name": "stdout"
        }
      ]
    },
    {
      "cell_type": "code",
      "metadata": {
        "colab": {
          "base_uri": "https://localhost:8080/"
        },
        "id": "1MbZ_fKmTQub",
        "outputId": "19a01e18-dac4-4052-e3f5-36370fa3733b"
      },
      "source": [
        "# generate a no skill prediction (majority class)\r\n",
        "ns_probs = [0 for _ in range(len(y3_test))]\r\n",
        "# predict probabilities\r\n",
        "LR3_probs = model_LR3.predict_proba(X3_test)\r\n",
        "# keep probabilities for the positive outcome only\r\n",
        "LR3_probs = LR3_probs[:, 1]\r\n",
        "# calculate scores\r\n",
        "ns_auc = roc_auc_score(y3_test, ns_probs)\r\n",
        "LR3_auc = roc_auc_score(y3_test, LR3_probs)\r\n",
        "# summarize scores\r\n",
        "print('Logistic Regression: ROC AUC = %.3f' % (LR3_auc))"
      ],
      "execution_count": null,
      "outputs": [
        {
          "output_type": "stream",
          "text": [
            "Logistic Regression: ROC AUC = 0.877\n"
          ],
          "name": "stdout"
        }
      ]
    },
    {
      "cell_type": "markdown",
      "metadata": {
        "id": "jsWJUQ-ET7n2"
      },
      "source": [
        "## SVC"
      ]
    },
    {
      "cell_type": "markdown",
      "metadata": {
        "id": "vBy4h83BT9f2"
      },
      "source": [
        "### Model Selection"
      ]
    },
    {
      "cell_type": "code",
      "metadata": {
        "id": "YSwjQJ_hTb2r",
        "colab": {
          "base_uri": "https://localhost:8080/"
        },
        "outputId": "78067ee1-5764-42b6-e015-cc7448207c1f"
      },
      "source": [
        "C_input = [0.1,1,10,100]\r\n",
        "G_input = [0.01,0.1,'auto',1,10]\r\n",
        "kernel_input = ['rbf', 'linear']\r\n",
        "for i in range(len(C_input)):\r\n",
        "    for j in range(len(G_input)):\r\n",
        "        for k in range(len(kernel_input)):\r\n",
        "            svc3 = svm.SVC(C=C_input[i], kernel=kernel_input[k], gamma=G_input[j])\r\n",
        "            score = np.mean(cross_val_score(svc3, X3_train, y3_train, cv=5))\r\n",
        "            print('C:'+ str(C_input[i]) + ', gamma:'+ str(G_input[j]) +', kernel:'+ str(kernel_input[k]) +', score:'+str(score))"
      ],
      "execution_count": null,
      "outputs": [
        {
          "output_type": "stream",
          "text": [
            "C:0.1, gamma:0.01, kernel:rbf, score:0.6978909090909091\n",
            "C:0.1, gamma:0.01, kernel:linear, score:0.7780727272727272\n",
            "C:0.1, gamma:0.1, kernel:rbf, score:0.7533454545454547\n",
            "C:0.1, gamma:0.1, kernel:linear, score:0.7780727272727272\n",
            "C:0.1, gamma:auto, kernel:rbf, score:0.7818363636363637\n",
            "C:0.1, gamma:auto, kernel:linear, score:0.7780727272727272\n",
            "C:0.1, gamma:1, kernel:rbf, score:0.7897272727272727\n",
            "C:0.1, gamma:1, kernel:linear, score:0.7780727272727272\n",
            "C:0.1, gamma:10, kernel:rbf, score:0.8068181818181819\n",
            "C:0.1, gamma:10, kernel:linear, score:0.7780727272727272\n",
            "C:1, gamma:0.01, kernel:rbf, score:0.752490909090909\n",
            "C:1, gamma:0.01, kernel:linear, score:0.7910909090909091\n",
            "C:1, gamma:0.1, kernel:rbf, score:0.7860363636363636\n",
            "C:1, gamma:0.1, kernel:linear, score:0.7910909090909091\n",
            "C:1, gamma:auto, kernel:rbf, score:0.7970181818181818\n",
            "C:1, gamma:auto, kernel:linear, score:0.7910909090909091\n",
            "C:1, gamma:1, kernel:rbf, score:0.8006\n",
            "C:1, gamma:1, kernel:linear, score:0.7910909090909091\n",
            "C:1, gamma:10, kernel:rbf, score:0.8112\n",
            "C:1, gamma:10, kernel:linear, score:0.7910909090909091\n",
            "C:10, gamma:0.01, kernel:rbf, score:0.784490909090909\n",
            "C:10, gamma:0.01, kernel:linear, score:0.793109090909091\n",
            "C:10, gamma:0.1, kernel:rbf, score:0.7954\n",
            "C:10, gamma:0.1, kernel:linear, score:0.793109090909091\n",
            "C:10, gamma:auto, kernel:rbf, score:0.8021454545454546\n",
            "C:10, gamma:auto, kernel:linear, score:0.793109090909091\n",
            "C:10, gamma:1, kernel:rbf, score:0.8056909090909091\n",
            "C:10, gamma:1, kernel:linear, score:0.793109090909091\n",
            "C:10, gamma:10, kernel:rbf, score:0.8129090909090909\n",
            "C:10, gamma:10, kernel:linear, score:0.793109090909091\n",
            "C:100, gamma:0.01, kernel:rbf, score:0.7927090909090909\n",
            "C:100, gamma:0.01, kernel:linear, score:0.7932727272727274\n",
            "C:100, gamma:0.1, kernel:rbf, score:0.7993090909090909\n",
            "C:100, gamma:0.1, kernel:linear, score:0.7932727272727274\n",
            "C:100, gamma:auto, kernel:rbf, score:0.8063454545454546\n",
            "C:100, gamma:auto, kernel:linear, score:0.7932727272727274\n",
            "C:100, gamma:1, kernel:rbf, score:0.8089818181818181\n",
            "C:100, gamma:1, kernel:linear, score:0.7932727272727274\n",
            "C:100, gamma:10, kernel:rbf, score:0.8134\n",
            "C:100, gamma:10, kernel:linear, score:0.7932727272727274\n"
          ],
          "name": "stdout"
        }
      ]
    },
    {
      "cell_type": "code",
      "metadata": {
        "id": "uBhQDn50UGAE",
        "colab": {
          "base_uri": "https://localhost:8080/"
        },
        "outputId": "892ce5b9-dd2a-4ce7-a0d8-ebe0a8003ec9"
      },
      "source": [
        "svc3 = svm.SVC(C=1, gamma = 10, kernel='rbf', probability=True)\r\n",
        "# fit model\r\n",
        "svc3.fit(X3_train, y3_train)\r\n",
        "print(\"Traning accuracy for SVC: {}\".format(svc3.score(X3_train, y3_train)))"
      ],
      "execution_count": null,
      "outputs": [
        {
          "output_type": "stream",
          "text": [
            "Traning accuracy for SVC: 0.811509090909091\n"
          ],
          "name": "stdout"
        }
      ]
    },
    {
      "cell_type": "markdown",
      "metadata": {
        "id": "MRY-6HOZySdr"
      },
      "source": [
        "### Evaluation\r\n",
        "\r\n"
      ]
    },
    {
      "cell_type": "code",
      "metadata": {
        "id": "0fNsgeEUyXQd",
        "colab": {
          "base_uri": "https://localhost:8080/",
          "height": 315
        },
        "outputId": "97f47fe5-ccc3-48a5-db5a-6854008bb6c3"
      },
      "source": [
        "# TEST DATA\r\n",
        "# score\r\n",
        "print('Testing accuracy for SVC: '+str(svc3.score(X3_test, y3_test) ))\r\n",
        "# confusion matrix\r\n",
        "cm = confusion_matrix(y3_test, svc3.predict(X3_test))\r\n",
        "fig, ax = plt.subplots(figsize=(4, 4))\r\n",
        "ax.imshow(cm)\r\n",
        "ax.grid(False)\r\n",
        "ax.xaxis.set(ticks=(0, 1), ticklabels=('Predicted 0s', 'Predicted 1s'))\r\n",
        "ax.yaxis.set(ticks=(0, 1), ticklabels=('Actual 0s', 'Actual 1s'))\r\n",
        "ax.set_ylim(1.5, -0.5)\r\n",
        "for i in range(2):\r\n",
        "    for j in range(2):\r\n",
        "        ax.text(j, i, cm[i, j], ha='center', va='center')\r\n",
        "plt.show()\r\n",
        "\r\n",
        "# Specificity and sensitivity\r\n",
        "tn, fp, fn, tp = confusion_matrix(y3_test, svc3.predict(X3_test)).ravel()\r\n",
        "specificity = tn / (tn+fp)\r\n",
        "sensitivity = tp / (tp+fn)\r\n",
        "print('Sensitivity = '+str(sensitivity))\r\n",
        "print('Specificity = '+str(specificity))"
      ],
      "execution_count": null,
      "outputs": [
        {
          "output_type": "stream",
          "text": [
            "Testing accuracy for SVC: 0.8035301278149726\n"
          ],
          "name": "stdout"
        },
        {
          "output_type": "display_data",
          "data": {
            "image/png": "[encoded data removed]",
            "text/plain": [
              "<Figure size 288x288 with 1 Axes>"
            ]
          },
          "metadata": {
            "tags": [],
            "needs_background": "light"
          }
        },
        {
          "output_type": "stream",
          "text": [
            "Sensitivity = 0.7331724969843184\n",
            "Specificity = 0.8751842751842752\n"
          ],
          "name": "stdout"
        }
      ]
    },
    {
      "cell_type": "code",
      "metadata": {
        "id": "Vxnqk597ybuB",
        "colab": {
          "base_uri": "https://localhost:8080/"
        },
        "outputId": "ffa4a060-b610-4435-8289-fa63164b61d9"
      },
      "source": [
        "# generate a no skill prediction (majority class)\r\n",
        "ns_probs = [0 for _ in range(len(y3_test))]\r\n",
        "# predict probabilities\r\n",
        "svc3_probs = svc3.predict_proba(X3_test)\r\n",
        "# keep probabilities for the positive outcome only\r\n",
        "svc3_probs = svc3_probs[:, 1]\r\n",
        "# calculate scores\r\n",
        "ns_auc = roc_auc_score(y3_test, ns_probs)\r\n",
        "svc3_auc = roc_auc_score(y3_test, svc3_probs)\r\n",
        "# summarize scores\r\n",
        "print('SVC: ROC AUC = %.3f' % (svc3_auc))"
      ],
      "execution_count": null,
      "outputs": [
        {
          "output_type": "stream",
          "text": [
            "SVC: ROC AUC = 0.863\n"
          ],
          "name": "stdout"
        }
      ]
    },
    {
      "cell_type": "markdown",
      "metadata": {
        "id": "M2TaKUfEzArh"
      },
      "source": [
        "## Random Forest"
      ]
    },
    {
      "cell_type": "markdown",
      "metadata": {
        "id": "OvlsJMEKzEm8"
      },
      "source": [
        "### Model selection"
      ]
    },
    {
      "cell_type": "code",
      "metadata": {
        "id": "XC1SppbUzEBY",
        "colab": {
          "base_uri": "https://localhost:8080/"
        },
        "outputId": "2f96e614-42ec-4aec-8f0e-289f7aa54ef1"
      },
      "source": [
        "N_input = [3,10,50,100,500]\r\n",
        "D_input = [1,3,5,10,20,40,100]\r\n",
        "for i in range(len(N_input)):\r\n",
        "    for j in range(len(D_input)):\r\n",
        "        rfc3 = RandomForestClassifier(n_estimators=N_input[i], max_depth=D_input[j])\r\n",
        "        score = np.mean(cross_val_score(rfc3, X3_train, y3_train, cv=5))\r\n",
        "        print('# estimators:'+ str(N_input[i]) + ', depth:'+ str(D_input[j]) +', score:'+str(score))"
      ],
      "execution_count": null,
      "outputs": [
        {
          "output_type": "stream",
          "text": [
            "# estimators:3, depth:1, score:0.8082545454545456\n",
            "# estimators:3, depth:3, score:0.8146727272727272\n",
            "# estimators:3, depth:5, score:0.8148545454545454\n",
            "# estimators:3, depth:10, score:0.8113636363636363\n",
            "# estimators:3, depth:20, score:0.7858181818181817\n",
            "# estimators:3, depth:40, score:0.7507454545454546\n",
            "# estimators:3, depth:100, score:0.7437090909090909\n",
            "# estimators:10, depth:1, score:0.8153818181818181\n",
            "# estimators:10, depth:3, score:0.8147272727272729\n",
            "# estimators:10, depth:5, score:0.8150909090909091\n",
            "# estimators:10, depth:10, score:0.8137090909090908\n",
            "# estimators:10, depth:20, score:0.7918181818181818\n",
            "# estimators:10, depth:40, score:0.7470363636363636\n",
            "# estimators:10, depth:100, score:0.7445818181818181\n",
            "# estimators:50, depth:1, score:0.8138727272727273\n",
            "# estimators:50, depth:3, score:0.8151272727272728\n",
            "# estimators:50, depth:5, score:0.8151636363636363\n",
            "# estimators:50, depth:10, score:0.8141636363636364\n",
            "# estimators:50, depth:20, score:0.7959636363636363\n",
            "# estimators:50, depth:40, score:0.7467090909090908\n",
            "# estimators:50, depth:100, score:0.7412545454545454\n",
            "# estimators:100, depth:1, score:0.8151636363636363\n",
            "# estimators:100, depth:3, score:0.8151818181818182\n",
            "# estimators:100, depth:5, score:0.8150727272727274\n",
            "# estimators:100, depth:10, score:0.8141818181818182\n",
            "# estimators:100, depth:20, score:0.7970909090909091\n",
            "# estimators:100, depth:40, score:0.7449999999999999\n",
            "# estimators:100, depth:100, score:0.7409272727272728\n",
            "# estimators:500, depth:1, score:0.8152000000000001\n",
            "# estimators:500, depth:3, score:0.8150363636363636\n",
            "# estimators:500, depth:5, score:0.8150363636363636\n",
            "# estimators:500, depth:10, score:0.8142545454545453\n",
            "# estimators:500, depth:20, score:0.7970181818181818\n",
            "# estimators:500, depth:40, score:0.7438545454545455\n",
            "# estimators:500, depth:100, score:0.7412909090909091\n"
          ],
          "name": "stdout"
        }
      ]
    },
    {
      "cell_type": "code",
      "metadata": {
        "colab": {
          "base_uri": "https://localhost:8080/"
        },
        "id": "KyTmpzeJre21",
        "outputId": "f058ed7f-b702-4c3c-9e11-f60c532e8dad"
      },
      "source": [
        "N_input = [100]\r\n",
        "D_input = [1,2,3,4,5,6]\r\n",
        "for i in range(len(N_input)):\r\n",
        "    for j in range(len(D_input)):\r\n",
        "        rfc3 = RandomForestClassifier(n_estimators=N_input[i], max_depth=D_input[j])\r\n",
        "        score = np.mean(cross_val_score(rfc3, X3_train, y3_train, cv=5))\r\n",
        "        print('# estimators:'+ str(N_input[i]) + ', depth:'+ str(D_input[j]) +', score:'+str(score))"
      ],
      "execution_count": null,
      "outputs": [
        {
          "output_type": "stream",
          "text": [
            "# estimators:100, depth:1, score:0.8150727272727274\n",
            "# estimators:100, depth:2, score:0.8151636363636363\n",
            "# estimators:100, depth:3, score:0.8151090909090909\n",
            "# estimators:100, depth:4, score:0.815218181818182\n",
            "# estimators:100, depth:5, score:0.8150545454545455\n",
            "# estimators:100, depth:6, score:0.8149272727272727\n"
          ],
          "name": "stdout"
        }
      ]
    },
    {
      "cell_type": "code",
      "metadata": {
        "id": "ZkffOfuizHa6",
        "colab": {
          "base_uri": "https://localhost:8080/"
        },
        "outputId": "915dbf61-d35d-471b-aea2-f158f6b0a72d"
      },
      "source": [
        "rfc3 = RandomForestClassifier(n_estimators=100, max_depth=4)\r\n",
        "rfc3.fit(X3_train, y3_train)\r\n",
        "\r\n",
        "print(\"Traning accuracy for Random Forest: {}\".format(rfc3.score(X3_train, y3_train)))"
      ],
      "execution_count": null,
      "outputs": [
        {
          "output_type": "stream",
          "text": [
            "Traning accuracy for Random Forest: 0.8154727272727272\n"
          ],
          "name": "stdout"
        }
      ]
    },
    {
      "cell_type": "markdown",
      "metadata": {
        "id": "dFL_WRVjzHoT"
      },
      "source": [
        "### Evaluation"
      ]
    },
    {
      "cell_type": "code",
      "metadata": {
        "id": "-PoIcOzJzKEf",
        "colab": {
          "base_uri": "https://localhost:8080/",
          "height": 315
        },
        "outputId": "30c58cda-512b-4409-857e-b1fafef24582"
      },
      "source": [
        "# TEST DATA\r\n",
        "# score\r\n",
        "print('Testing accuracy for RFC: '+str(rfc3.score(X3_test, y3_test) ))\r\n",
        "# confusion matrix\r\n",
        "cm = confusion_matrix(y3_test, rfc3.predict(X3_test))\r\n",
        "fig, ax = plt.subplots(figsize=(4, 4))\r\n",
        "ax.imshow(cm)\r\n",
        "ax.grid(False)\r\n",
        "ax.xaxis.set(ticks=(0, 1), ticklabels=('Predicted 0s', 'Predicted 1s'))\r\n",
        "ax.yaxis.set(ticks=(0, 1), ticklabels=('Actual 0s', 'Actual 1s'))\r\n",
        "ax.set_ylim(1.5, -0.5)\r\n",
        "for i in range(2):\r\n",
        "    for j in range(2):\r\n",
        "        ax.text(j, i, cm[i, j], ha='center', va='center')\r\n",
        "plt.show()\r\n",
        "\r\n",
        "# Specificity and sensitivity\r\n",
        "tn, fp, fn, tp = confusion_matrix(y3_test, rfc3.predict(X3_test)).ravel()\r\n",
        "specificity = tn / (tn+fp)\r\n",
        "sensitivity = tp / (tp+fn)\r\n",
        "print('Sensitivity = '+str(sensitivity))\r\n",
        "print('Specificity = '+str(specificity))"
      ],
      "execution_count": null,
      "outputs": [
        {
          "output_type": "stream",
          "text": [
            "Testing accuracy for RFC: 0.8075471698113208\n"
          ],
          "name": "stdout"
        },
        {
          "output_type": "display_data",
          "data": {
            "image/png": "[encoded data removed]",
            "text/plain": [
              "<Figure size 288x288 with 1 Axes>"
            ]
          },
          "metadata": {
            "tags": [],
            "needs_background": "light"
          }
        },
        {
          "output_type": "stream",
          "text": [
            "Sensitivity = 0.7811821471652594\n",
            "Specificity = 0.8343980343980344\n"
          ],
          "name": "stdout"
        }
      ]
    },
    {
      "cell_type": "code",
      "metadata": {
        "colab": {
          "base_uri": "https://localhost:8080/"
        },
        "id": "KQg8ypjFxS8S",
        "outputId": "8ae0fd83-599a-4cc1-8b1a-8ed6618dd8ca"
      },
      "source": [
        "# generate a no skill prediction (majority class)\r\n",
        "ns_probs = [0 for _ in range(len(y3_test))]\r\n",
        "# predict probabilities\r\n",
        "rfc3_probs = rfc3.predict_proba(X3_test)\r\n",
        "# keep probabilities for the positive outcome only\r\n",
        "rfc3_probs = rfc3_probs[:, 1]\r\n",
        "# calculate scores\r\n",
        "ns_auc = roc_auc_score(y3_test, ns_probs)\r\n",
        "rfc3_auc = roc_auc_score(y3_test, rfc3_probs)\r\n",
        "# summarize scores\r\n",
        "print('RFC: ROC AUC = %.3f' % (rfc3_auc))"
      ],
      "execution_count": null,
      "outputs": [
        {
          "output_type": "stream",
          "text": [
            "RFC: ROC AUC = 0.877\n"
          ],
          "name": "stdout"
        }
      ]
    },
    {
      "cell_type": "markdown",
      "metadata": {
        "id": "k-vRlVujzK2F"
      },
      "source": [
        "## Comparison"
      ]
    },
    {
      "cell_type": "code",
      "metadata": {
        "id": "nrQmrSxYzNkj",
        "colab": {
          "base_uri": "https://localhost:8080/",
          "height": 334
        },
        "outputId": "e0a0d2bd-43d6-4d5a-c4c6-660fe6aeea62"
      },
      "source": [
        "# calculate roc curves\r\n",
        "ns_fpr, ns_tpr, _ = roc_curve(y3_test, ns_probs)\r\n",
        "LR3_fpr, LR3_tpr, _ = roc_curve(y3_test, LR3_probs)\r\n",
        "rfc3_fpr, rfc3_tpr, _ = roc_curve(y3_test, rfc3_probs)\r\n",
        "svc3_fpr, svc3_tpr, _ = roc_curve(y3_test, svc3_probs)\r\n",
        "# plot the roc curve for the model\r\n",
        "plt.figure(figsize=(7, 5)) \r\n",
        "plt.plot(ns_fpr, ns_tpr, linestyle='--')\r\n",
        "plt.plot(LR3_fpr, LR3_tpr, marker='.', label='Logistic Regression')\r\n",
        "plt.plot(svc3_fpr, svc3_tpr, marker='.', label='SVC')\r\n",
        "plt.plot(rfc3_fpr, rfc3_tpr, marker='.', label='RFC')\r\n",
        "plt.xlabel('False Positive Rate')\r\n",
        "plt.ylabel('True Positive Rate')\r\n",
        "plt.legend()\r\n",
        "plt.show()"
      ],
      "execution_count": null,
      "outputs": [
        {
          "output_type": "display_data",
          "data": {
            "image/png": "[encoded data removed]",
            "text/plain": [
              "<Figure size 504x360 with 1 Axes>"
            ]
          },
          "metadata": {
            "tags": [],
            "needs_background": "light"
          }
        }
      ]
    },
    {
      "cell_type": "markdown",
      "metadata": {
        "id": "CauJkZwwqVLd"
      },
      "source": [
        "# Threshold experiments"
      ]
    },
    {
      "cell_type": "code",
      "metadata": {
        "id": "cXb_Glu9lr_l"
      },
      "source": [
        "from sklearn.base import BaseEstimator, ClassifierMixin\r\n",
        "\r\n",
        "class CustomThreshold(BaseEstimator, ClassifierMixin):\r\n",
        "    \"\"\" Custom threshold wrapper for binary classification\"\"\"\r\n",
        "    def __init__(self, base, threshold=0.5):\r\n",
        "        self.base = base\r\n",
        "        self.threshold = threshold\r\n",
        "    def fit(self, *args, **kwargs):\r\n",
        "        self.base.fit(*args, **kwargs)\r\n",
        "        return self\r\n",
        "    def predict(self, X):\r\n",
        "        return (self.base.predict_proba(X)[:, 1] > self.threshold).astype(int)    "
      ],
      "execution_count": null,
      "outputs": []
    },
    {
      "cell_type": "code",
      "metadata": {
        "id": "ujhLx3c2v91L"
      },
      "source": [
        "clf = [CustomThreshold(model_LR3, threshold) for threshold in [0.5, 0.6, 0.7]] "
      ],
      "execution_count": null,
      "outputs": []
    },
    {
      "cell_type": "code",
      "metadata": {
        "colab": {
          "base_uri": "https://localhost:8080/"
        },
        "id": "xsex6Dkau2QP",
        "outputId": "13489804-2095-496c-9b3c-c43042d11440"
      },
      "source": [
        "for model in clf:\r\n",
        "    print(confusion_matrix(y3_test, model.predict(X3_test)))\r\n",
        "\r\n",
        "    tn, fp, fn, tp = confusion_matrix(y3_test, model.predict(X3_test)).ravel()\r\n",
        "    specificity = tn / (tn+fp)\r\n",
        "    sensitivity = tp / (tp+fn)\r\n",
        "    accuracy = (tp + tn) / (tp+tn+fp+fn)\r\n",
        "    print('Sensitivity = '+str(sensitivity))\r\n",
        "    print('Specificity = '+str(specificity))\r\n",
        "    print('Accuracy= '+str(accuracy))"
      ],
      "execution_count": null,
      "outputs": [
        {
          "output_type": "stream",
          "text": [
            "[[7496  644]\n",
            " [2860 5430]]\n",
            "Sensitivity = 0.6550060313630881\n",
            "Specificity = 0.9208845208845209\n",
            "Accuracy= 0.7867315885575168\n",
            "[[7675  465]\n",
            " [3307 4983]]\n",
            "Sensitivity = 0.6010856453558504\n",
            "Specificity = 0.9428746928746928\n",
            "Accuracy= 0.7704199634814364\n",
            "[[7807  333]\n",
            " [3770 4520]]\n",
            "Sensitivity = 0.5452352231604343\n",
            "Specificity = 0.9590909090909091\n",
            "Accuracy= 0.7502738892270238\n"
          ],
          "name": "stdout"
        }
      ]
    },
    {
      "cell_type": "code",
      "metadata": {
        "id": "-ENk5CkkvVvD"
      },
      "source": [
        "clf2 = [CustomThreshold(rfc3, threshold) for threshold in [0.7, 0.8, 0.8]] "
      ],
      "execution_count": null,
      "outputs": []
    },
    {
      "cell_type": "code",
      "metadata": {
        "colab": {
          "base_uri": "https://localhost:8080/"
        },
        "id": "ryhu9mFjx_RX",
        "outputId": "a68f4cc3-3729-4df3-9fb1-7d0eac9bdcc3"
      },
      "source": [
        "for model in clf2:\r\n",
        "    print(confusion_matrix(y3_test, model.predict(X3_test)))\r\n",
        "\r\n",
        "    tn, fp, fn, tp = confusion_matrix(y3_test, model.predict(X3_test)).ravel()\r\n",
        "    specificity = tn / (tn+fp)\r\n",
        "    sensitivity = tp / (tp+fn)\r\n",
        "    accuracy = (tp + tn) / (tp+tn+fp+fn)\r\n",
        "    print('Sensitivity = '+str(sensitivity))\r\n",
        "    print('Specificity = '+str(specificity))\r\n",
        "    print('Accuracy= '+str(accuracy))"
      ],
      "execution_count": null,
      "outputs": [
        {
          "output_type": "stream",
          "text": [
            "[[7476  664]\n",
            " [2794 5496]]\n",
            "Sensitivity = 0.6629674306393245\n",
            "Specificity = 0.9184275184275185\n",
            "Accuracy= 0.789531345100426\n",
            "[[7753  387]\n",
            " [3597 4693]]\n",
            "Sensitivity = 0.5661037394451146\n",
            "Specificity = 0.9524570024570025\n",
            "Accuracy= 0.7575167376749847\n",
            "[[7753  387]\n",
            " [3597 4693]]\n",
            "Sensitivity = 0.5661037394451146\n",
            "Specificity = 0.9524570024570025\n",
            "Accuracy= 0.7575167376749847\n"
          ],
          "name": "stdout"
        }
      ]
    }
  ]
}